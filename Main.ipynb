{
 "cells": [
  {
   "cell_type": "code",
   "execution_count": 1,
   "metadata": {
    "ExecuteTime": {
     "end_time": "2023-11-12T22:02:09.061898Z",
     "start_time": "2023-11-12T22:02:07.214626Z"
    }
   },
   "outputs": [
    {
     "name": "stderr",
     "output_type": "stream",
     "text": [
      "/opt/miniconda3/envs/kaggle/lib/python3.11/site-packages/tqdm/auto.py:21: TqdmWarning: IProgress not found. Please update jupyter and ipywidgets. See https://ipywidgets.readthedocs.io/en/stable/user_install.html\n",
      "  from .autonotebook import tqdm as notebook_tqdm\n"
     ]
    }
   ],
   "source": [
    "# importing necessary libraries\n",
    "import numpy as np\n",
    "import pandas as pd\n",
    "import matplotlib.pyplot as plt\n",
    "import os\n",
    "from sklearn.compose import ColumnTransformer\n",
    "from sklearn.pipeline import make_pipeline\n",
    "from sklearn.preprocessing import OneHotEncoder,StandardScaler\n",
    "from Functionality import Reduce_numerical_columns,Reduce_text_change,Reduce_event,Reduce_activity,getX_Y,getModel,performCrossValidation,makePredictions,perfromGridSearch,performKfoldScore,Aggregation,ConcatAlongId\n",
    "from sklearn.linear_model import LinearRegression,SGDRegressor\n",
    "from sklearn.metrics import mean_squared_error\n",
    "from sklearn.ensemble import RandomForestRegressor\n",
    "import optuna\n",
    "from sklearn.model_selection import train_test_split\n",
    "from sklearn.ensemble import GradientBoostingRegressor\n",
    "from sklearn.preprocessing import PolynomialFeatures\n",
    "import re\n",
    "import copy\n",
    "import string\n",
    "import seaborn as sns\n",
    "import statistics"
   ]
  },
  {
   "cell_type": "code",
   "execution_count": 2,
   "metadata": {
    "ExecuteTime": {
     "end_time": "2023-11-12T22:02:09.088198Z",
     "start_time": "2023-11-12T22:02:09.038758Z"
    },
    "collapsed": false,
    "jupyter": {
     "outputs_hidden": false
    }
   },
   "outputs": [],
   "source": [
    "# Directories Where the data is present\n",
    "train_logs_directory = os.path.join(\"Data\",\"train_logs.csv\")\n",
    "train_scores_directory = os.path.join(\"Data\",\"train_scores.csv\")\n",
    "test_logs_directory = os.path.join(\"Data\",\"test_logs.csv\")"
   ]
  },
  {
   "cell_type": "markdown",
   "metadata": {
    "collapsed": false,
    "jupyter": {
     "outputs_hidden": false
    }
   },
   "source": [
    "# Loading Dataset"
   ]
  },
  {
   "cell_type": "code",
   "execution_count": 3,
   "metadata": {
    "ExecuteTime": {
     "end_time": "2023-11-12T22:02:13.870741Z",
     "start_time": "2023-11-12T22:02:09.058499Z"
    },
    "collapsed": false,
    "jupyter": {
     "outputs_hidden": false
    }
   },
   "outputs": [],
   "source": [
    "# following the naming convention that everything related\n",
    "# to train will be followed by train_ and everything followed by test will be followed by test_\n",
    "train_logs_df = pd.read_csv(train_logs_directory)\n",
    "test_logs_df = pd.read_csv(test_logs_directory)\n",
    "train_scores_df = pd.read_csv(train_scores_directory)"
   ]
  },
  {
   "cell_type": "code",
   "execution_count": 4,
   "metadata": {
    "ExecuteTime": {
     "end_time": "2023-11-12T22:02:14.570326Z",
     "start_time": "2023-11-12T22:02:14.074374Z"
    },
    "collapsed": false,
    "jupyter": {
     "outputs_hidden": false
    }
   },
   "outputs": [
    {
     "data": {
      "text/html": [
       "<div>\n",
       "<style scoped>\n",
       "    .dataframe tbody tr th:only-of-type {\n",
       "        vertical-align: middle;\n",
       "    }\n",
       "\n",
       "    .dataframe tbody tr th {\n",
       "        vertical-align: top;\n",
       "    }\n",
       "\n",
       "    .dataframe thead th {\n",
       "        text-align: right;\n",
       "    }\n",
       "</style>\n",
       "<table border=\"1\" class=\"dataframe\">\n",
       "  <thead>\n",
       "    <tr style=\"text-align: right;\">\n",
       "      <th></th>\n",
       "      <th>id</th>\n",
       "      <th>event_id</th>\n",
       "      <th>down_time</th>\n",
       "      <th>up_time</th>\n",
       "      <th>action_time</th>\n",
       "      <th>activity</th>\n",
       "      <th>down_event</th>\n",
       "      <th>up_event</th>\n",
       "      <th>text_change</th>\n",
       "      <th>cursor_position</th>\n",
       "      <th>word_count</th>\n",
       "      <th>score</th>\n",
       "    </tr>\n",
       "  </thead>\n",
       "  <tbody>\n",
       "    <tr>\n",
       "      <th>0</th>\n",
       "      <td>001519c8</td>\n",
       "      <td>1</td>\n",
       "      <td>4526</td>\n",
       "      <td>4557</td>\n",
       "      <td>31</td>\n",
       "      <td>Nonproduction</td>\n",
       "      <td>Leftclick</td>\n",
       "      <td>Leftclick</td>\n",
       "      <td>NoChange</td>\n",
       "      <td>0</td>\n",
       "      <td>0</td>\n",
       "      <td>3.5</td>\n",
       "    </tr>\n",
       "    <tr>\n",
       "      <th>1</th>\n",
       "      <td>001519c8</td>\n",
       "      <td>2</td>\n",
       "      <td>4558</td>\n",
       "      <td>4962</td>\n",
       "      <td>404</td>\n",
       "      <td>Nonproduction</td>\n",
       "      <td>Leftclick</td>\n",
       "      <td>Leftclick</td>\n",
       "      <td>NoChange</td>\n",
       "      <td>0</td>\n",
       "      <td>0</td>\n",
       "      <td>3.5</td>\n",
       "    </tr>\n",
       "    <tr>\n",
       "      <th>2</th>\n",
       "      <td>001519c8</td>\n",
       "      <td>3</td>\n",
       "      <td>106571</td>\n",
       "      <td>106571</td>\n",
       "      <td>0</td>\n",
       "      <td>Nonproduction</td>\n",
       "      <td>Shift</td>\n",
       "      <td>Shift</td>\n",
       "      <td>NoChange</td>\n",
       "      <td>0</td>\n",
       "      <td>0</td>\n",
       "      <td>3.5</td>\n",
       "    </tr>\n",
       "    <tr>\n",
       "      <th>3</th>\n",
       "      <td>001519c8</td>\n",
       "      <td>4</td>\n",
       "      <td>106686</td>\n",
       "      <td>106777</td>\n",
       "      <td>91</td>\n",
       "      <td>Input</td>\n",
       "      <td>q</td>\n",
       "      <td>q</td>\n",
       "      <td>q</td>\n",
       "      <td>1</td>\n",
       "      <td>1</td>\n",
       "      <td>3.5</td>\n",
       "    </tr>\n",
       "    <tr>\n",
       "      <th>4</th>\n",
       "      <td>001519c8</td>\n",
       "      <td>5</td>\n",
       "      <td>107196</td>\n",
       "      <td>107323</td>\n",
       "      <td>127</td>\n",
       "      <td>Input</td>\n",
       "      <td>q</td>\n",
       "      <td>q</td>\n",
       "      <td>q</td>\n",
       "      <td>2</td>\n",
       "      <td>1</td>\n",
       "      <td>3.5</td>\n",
       "    </tr>\n",
       "  </tbody>\n",
       "</table>\n",
       "</div>"
      ],
      "text/plain": [
       "         id  event_id  down_time  up_time  action_time       activity  \\\n",
       "0  001519c8         1       4526     4557           31  Nonproduction   \n",
       "1  001519c8         2       4558     4962          404  Nonproduction   \n",
       "2  001519c8         3     106571   106571            0  Nonproduction   \n",
       "3  001519c8         4     106686   106777           91          Input   \n",
       "4  001519c8         5     107196   107323          127          Input   \n",
       "\n",
       "  down_event   up_event text_change  cursor_position  word_count  score  \n",
       "0  Leftclick  Leftclick    NoChange                0           0    3.5  \n",
       "1  Leftclick  Leftclick    NoChange                0           0    3.5  \n",
       "2      Shift      Shift    NoChange                0           0    3.5  \n",
       "3          q          q           q                1           1    3.5  \n",
       "4          q          q           q                2           1    3.5  "
      ]
     },
     "execution_count": 4,
     "metadata": {},
     "output_type": "execute_result"
    }
   ],
   "source": [
    "train_df = pd.merge(train_logs_df,train_scores_df,on = \"id\",how = \"inner\")\n",
    "train_df.head()"
   ]
  },
  {
   "cell_type": "markdown",
   "metadata": {
    "collapsed": false,
    "jupyter": {
     "outputs_hidden": false
    }
   },
   "source": [
    "# Exploratory Data Analysis"
   ]
  },
  {
   "cell_type": "code",
   "execution_count": 5,
   "metadata": {
    "ExecuteTime": {
     "end_time": "2023-11-12T22:02:14.571549Z",
     "start_time": "2023-11-12T22:02:14.567635Z"
    },
    "collapsed": false,
    "jupyter": {
     "outputs_hidden": false
    }
   },
   "outputs": [],
   "source": [
    "# No null values are present\n",
    "# train_logs_df.isnull().sum()"
   ]
  },
  {
   "cell_type": "code",
   "execution_count": 6,
   "metadata": {
    "ExecuteTime": {
     "end_time": "2023-11-12T22:02:14.573504Z",
     "start_time": "2023-11-12T22:02:14.570576Z"
    },
    "collapsed": false,
    "jupyter": {
     "outputs_hidden": false
    }
   },
   "outputs": [
    {
     "data": {
      "text/plain": [
       "id                  object\n",
       "event_id             int64\n",
       "down_time            int64\n",
       "up_time              int64\n",
       "action_time          int64\n",
       "activity            object\n",
       "down_event          object\n",
       "up_event            object\n",
       "text_change         object\n",
       "cursor_position      int64\n",
       "word_count           int64\n",
       "score              float64\n",
       "dtype: object"
      ]
     },
     "execution_count": 6,
     "metadata": {},
     "output_type": "execute_result"
    }
   ],
   "source": [
    "train_df.dtypes"
   ]
  },
  {
   "cell_type": "code",
   "execution_count": 7,
   "metadata": {
    "ExecuteTime": {
     "end_time": "2023-11-12T22:02:14.576040Z",
     "start_time": "2023-11-12T22:02:14.573795Z"
    },
    "collapsed": false,
    "jupyter": {
     "outputs_hidden": false
    }
   },
   "outputs": [
    {
     "data": {
      "text/plain": [
       "Index(['id', 'event_id', 'down_time', 'up_time', 'action_time', 'activity',\n",
       "       'down_event', 'up_event', 'text_change', 'cursor_position',\n",
       "       'word_count', 'score'],\n",
       "      dtype='object')"
      ]
     },
     "execution_count": 7,
     "metadata": {},
     "output_type": "execute_result"
    }
   ],
   "source": [
    "train_df.columns"
   ]
  },
  {
   "cell_type": "code",
   "execution_count": 8,
   "metadata": {
    "ExecuteTime": {
     "end_time": "2023-11-12T22:02:14.791213Z",
     "start_time": "2023-11-12T22:02:14.733571Z"
    },
    "collapsed": false,
    "jupyter": {
     "outputs_hidden": false
    }
   },
   "outputs": [
    {
     "data": {
      "text/plain": [
       "array(['Leftclick', 'Shift', 'q', 'Space', 'Backspace', '.', ',', 'Enter',\n",
       "       'ArrowLeft', \"'\", ';', 'ArrowRight', '-', '?', 'Tab', '\"',\n",
       "       'ArrowUp', 'ArrowDown', 'm', 'Rightclick', 'i', 'o', 't', '=', 'a',\n",
       "       'CapsLock', 'Control', 'c', 'v', '/', 'Delete', ':', 'z', '[', '$',\n",
       "       '(', ')', '+', 'Home', 'End', '\\\\', 'Meta', '*', '&',\n",
       "       'AudioVolumeMute', 'x', '!', 'Insert', 'MediaPlayPause', 'w',\n",
       "       'NumLock', '%', 'V', 'b', '>', 'Alt', 'AudioVolumeUp',\n",
       "       'ContextMenu', 'AudioVolumeDown', 'n', 'e', '<', 'PageDown', ']',\n",
       "       'Middleclick', '@', 'F12', 'u', 'j', 's', '\\x96', 'Dead', 'y', '{',\n",
       "       'ScrollLock', '¿', 'p', 'Process', '}', 'MediaTrackPrevious',\n",
       "       'MediaTrackNext', 'F3', '^', 'Unidentified', 'Cancel', 'h', '2',\n",
       "       'd', 'r', '`', '\\x9b', 'f', 'g', '#', '~', 'PageUp', 'l', 'T', 'A',\n",
       "       'S', 'ModeChange', '_', 'Escape', 'F11', 'Unknownclick',\n",
       "       'AltGraph', 'F10', 'F15', 'Clear', 'OS', 'C', 'Ä±', 'M', '|',\n",
       "       'â\\x80\\x93', '0', '1', '5', '\\x97', 'Ë\\x86', '¡', '\\x80', 'Â´',\n",
       "       'Å\\x9f', 'F2', 'ä', 'F1', 'k', 'Pause', 'F6'], dtype=object)"
      ]
     },
     "execution_count": 8,
     "metadata": {},
     "output_type": "execute_result"
    }
   ],
   "source": [
    "train_df[\"up_event\"].unique()"
   ]
  },
  {
   "cell_type": "code",
   "execution_count": 9,
   "metadata": {
    "ExecuteTime": {
     "end_time": "2023-11-12T22:02:15.000571Z",
     "start_time": "2023-11-12T22:02:14.944002Z"
    },
    "collapsed": false,
    "jupyter": {
     "outputs_hidden": false
    }
   },
   "outputs": [
    {
     "data": {
      "text/plain": [
       "array(['Nonproduction', 'Input', 'Remove/Cut', 'Replace',\n",
       "       'Move From [284, 292] To [282, 290]',\n",
       "       'Move From [287, 289] To [285, 287]',\n",
       "       'Move From [460, 461] To [465, 466]', 'Paste',\n",
       "       'Move From [905, 1314] To [907, 1316]',\n",
       "       'Move From [565, 743] To [669, 847]',\n",
       "       'Move From [669, 847] To [565, 743]',\n",
       "       'Move From [1041, 1121] To [1496, 1576]',\n",
       "       'Move From [1455, 1557] To [1323, 1425]',\n",
       "       'Move From [2268, 2275] To [2247, 2254]',\n",
       "       'Move From [213, 302] To [902, 991]',\n",
       "       'Move From [0, 158] To [234, 392]',\n",
       "       'Move From [460, 465] To [925, 930]',\n",
       "       'Move From [810, 906] To [816, 912]',\n",
       "       'Move From [186, 187] To [184, 185]',\n",
       "       'Move From [140, 272] To [299, 431]',\n",
       "       'Move From [114, 140] To [272, 298]',\n",
       "       'Move From [1386, 1450] To [1445, 1509]',\n",
       "       'Move From [442, 524] To [296, 378]',\n",
       "       'Move From [408, 414] To [390, 396]',\n",
       "       'Move From [1144, 1147] To [1142, 1145]',\n",
       "       'Move From [218, 220] To [206, 208]',\n",
       "       'Move From [164, 165] To [153, 154]',\n",
       "       'Move From [623, 632] To [624, 633]',\n",
       "       'Move From [747, 960] To [1041, 1254]',\n",
       "       'Move From [274, 314] To [299, 339]',\n",
       "       'Move From [624, 625] To [845, 846]',\n",
       "       'Move From [1861, 2063] To [1766, 1968]',\n",
       "       'Move From [1766, 1968] To [1861, 2063]',\n",
       "       'Move From [2091, 2179] To [252, 340]',\n",
       "       'Move From [923, 1077] To [340, 494]',\n",
       "       'Move From [0, 1] To [590, 591]',\n",
       "       'Move From [999, 1000] To [1000, 1001]',\n",
       "       'Move From [13, 65] To [9, 61]',\n",
       "       'Move From [1651, 1769] To [1565, 1683]',\n",
       "       'Move From [61, 136] To [0, 75]', 'Move From [0, 75] To [1, 76]',\n",
       "       'Move From [75, 134] To [304, 363]',\n",
       "       'Move From [289, 355] To [562, 628]',\n",
       "       'Move From [944, 1102] To [1050, 1208]',\n",
       "       'Move From [1306, 1371] To [1061, 1126]',\n",
       "       'Move From [1061, 1126] To [1306, 1371]',\n",
       "       'Move From [1361, 1362] To [1358, 1359]',\n",
       "       'Move From [51, 86] To [109, 144]',\n",
       "       'Move From [134, 169] To [122, 157]',\n",
       "       'Move From [382, 437] To [458, 513]'], dtype=object)"
      ]
     },
     "execution_count": 9,
     "metadata": {},
     "output_type": "execute_result"
    }
   ],
   "source": [
    "# Highly skewed dataset\n",
    "train_df[\"activity\"].unique()"
   ]
  },
  {
   "cell_type": "code",
   "execution_count": 10,
   "metadata": {
    "ExecuteTime": {
     "end_time": "2023-11-12T22:02:15.010507Z",
     "start_time": "2023-11-12T22:02:15.001406Z"
    },
    "collapsed": false,
    "jupyter": {
     "outputs_hidden": false
    }
   },
   "outputs": [
    {
     "data": {
      "text/plain": [
       "0          Nonproduction\n",
       "1          Nonproduction\n",
       "2          Nonproduction\n",
       "3                  Input\n",
       "4                  Input\n",
       "               ...      \n",
       "8405893    Nonproduction\n",
       "8405894    Nonproduction\n",
       "8405895          Replace\n",
       "8405896    Nonproduction\n",
       "8405897            Input\n",
       "Name: activity, Length: 8405898, dtype: object"
      ]
     },
     "execution_count": 10,
     "metadata": {},
     "output_type": "execute_result"
    }
   ],
   "source": [
    "train_df[\"activity\"]"
   ]
  },
  {
   "cell_type": "code",
   "execution_count": 11,
   "metadata": {
    "ExecuteTime": {
     "end_time": "2023-11-12T22:02:15.011771Z",
     "start_time": "2023-11-12T22:02:15.006850Z"
    },
    "collapsed": false,
    "jupyter": {
     "outputs_hidden": false
    }
   },
   "outputs": [
    {
     "data": {
      "text/html": [
       "<div>\n",
       "<style scoped>\n",
       "    .dataframe tbody tr th:only-of-type {\n",
       "        vertical-align: middle;\n",
       "    }\n",
       "\n",
       "    .dataframe tbody tr th {\n",
       "        vertical-align: top;\n",
       "    }\n",
       "\n",
       "    .dataframe thead th {\n",
       "        text-align: right;\n",
       "    }\n",
       "</style>\n",
       "<table border=\"1\" class=\"dataframe\">\n",
       "  <thead>\n",
       "    <tr style=\"text-align: right;\">\n",
       "      <th></th>\n",
       "      <th>id</th>\n",
       "      <th>event_id</th>\n",
       "      <th>down_time</th>\n",
       "      <th>up_time</th>\n",
       "      <th>action_time</th>\n",
       "      <th>activity</th>\n",
       "      <th>down_event</th>\n",
       "      <th>up_event</th>\n",
       "      <th>text_change</th>\n",
       "      <th>cursor_position</th>\n",
       "      <th>word_count</th>\n",
       "      <th>score</th>\n",
       "    </tr>\n",
       "  </thead>\n",
       "  <tbody>\n",
       "    <tr>\n",
       "      <th>0</th>\n",
       "      <td>001519c8</td>\n",
       "      <td>1</td>\n",
       "      <td>4526</td>\n",
       "      <td>4557</td>\n",
       "      <td>31</td>\n",
       "      <td>Nonproduction</td>\n",
       "      <td>Leftclick</td>\n",
       "      <td>Leftclick</td>\n",
       "      <td>NoChange</td>\n",
       "      <td>0</td>\n",
       "      <td>0</td>\n",
       "      <td>3.5</td>\n",
       "    </tr>\n",
       "    <tr>\n",
       "      <th>1</th>\n",
       "      <td>001519c8</td>\n",
       "      <td>2</td>\n",
       "      <td>4558</td>\n",
       "      <td>4962</td>\n",
       "      <td>404</td>\n",
       "      <td>Nonproduction</td>\n",
       "      <td>Leftclick</td>\n",
       "      <td>Leftclick</td>\n",
       "      <td>NoChange</td>\n",
       "      <td>0</td>\n",
       "      <td>0</td>\n",
       "      <td>3.5</td>\n",
       "    </tr>\n",
       "    <tr>\n",
       "      <th>2</th>\n",
       "      <td>001519c8</td>\n",
       "      <td>3</td>\n",
       "      <td>106571</td>\n",
       "      <td>106571</td>\n",
       "      <td>0</td>\n",
       "      <td>Nonproduction</td>\n",
       "      <td>Shift</td>\n",
       "      <td>Shift</td>\n",
       "      <td>NoChange</td>\n",
       "      <td>0</td>\n",
       "      <td>0</td>\n",
       "      <td>3.5</td>\n",
       "    </tr>\n",
       "    <tr>\n",
       "      <th>3</th>\n",
       "      <td>001519c8</td>\n",
       "      <td>4</td>\n",
       "      <td>106686</td>\n",
       "      <td>106777</td>\n",
       "      <td>91</td>\n",
       "      <td>Input</td>\n",
       "      <td>q</td>\n",
       "      <td>q</td>\n",
       "      <td>q</td>\n",
       "      <td>1</td>\n",
       "      <td>1</td>\n",
       "      <td>3.5</td>\n",
       "    </tr>\n",
       "    <tr>\n",
       "      <th>4</th>\n",
       "      <td>001519c8</td>\n",
       "      <td>5</td>\n",
       "      <td>107196</td>\n",
       "      <td>107323</td>\n",
       "      <td>127</td>\n",
       "      <td>Input</td>\n",
       "      <td>q</td>\n",
       "      <td>q</td>\n",
       "      <td>q</td>\n",
       "      <td>2</td>\n",
       "      <td>1</td>\n",
       "      <td>3.5</td>\n",
       "    </tr>\n",
       "  </tbody>\n",
       "</table>\n",
       "</div>"
      ],
      "text/plain": [
       "         id  event_id  down_time  up_time  action_time       activity  \\\n",
       "0  001519c8         1       4526     4557           31  Nonproduction   \n",
       "1  001519c8         2       4558     4962          404  Nonproduction   \n",
       "2  001519c8         3     106571   106571            0  Nonproduction   \n",
       "3  001519c8         4     106686   106777           91          Input   \n",
       "4  001519c8         5     107196   107323          127          Input   \n",
       "\n",
       "  down_event   up_event text_change  cursor_position  word_count  score  \n",
       "0  Leftclick  Leftclick    NoChange                0           0    3.5  \n",
       "1  Leftclick  Leftclick    NoChange                0           0    3.5  \n",
       "2      Shift      Shift    NoChange                0           0    3.5  \n",
       "3          q          q           q                1           1    3.5  \n",
       "4          q          q           q                2           1    3.5  "
      ]
     },
     "execution_count": 11,
     "metadata": {},
     "output_type": "execute_result"
    }
   ],
   "source": [
    "train_df.head()"
   ]
  },
  {
   "cell_type": "code",
   "execution_count": 12,
   "metadata": {
    "ExecuteTime": {
     "end_time": "2023-11-12T22:02:15.015641Z",
     "start_time": "2023-11-12T22:02:15.010343Z"
    }
   },
   "outputs": [
    {
     "data": {
      "text/plain": [
       "0          NoChange\n",
       "1          NoChange\n",
       "2          NoChange\n",
       "3                 q\n",
       "4                 q\n",
       "             ...   \n",
       "8405893    NoChange\n",
       "8405894    NoChange\n",
       "8405895      q => q\n",
       "8405896    NoChange\n",
       "8405897           .\n",
       "Name: text_change, Length: 8405898, dtype: object"
      ]
     },
     "execution_count": 12,
     "metadata": {},
     "output_type": "execute_result"
    }
   ],
   "source": [
    "train_df[\"text_change\"]"
   ]
  },
  {
   "cell_type": "markdown",
   "metadata": {},
   "source": [
    "# Working on the essay part and adding more features"
   ]
  },
  {
   "cell_type": "code",
   "execution_count": 13,
   "metadata": {},
   "outputs": [],
   "source": [
    "def EssayGenerator(temp_df):\n",
    "    essay_text = \"\"\n",
    "    for index,i in temp_df.iterrows():\n",
    "    \n",
    "        cursor_position = i[\"cursor_position\"]\n",
    "    \n",
    "        if i[\"activity\"] == \"Input\":\n",
    "            essay_text += i[\"text_change\"]\n",
    "            continue\n",
    "    \n",
    "        if i[\"activity\"] == \"Replace\":\n",
    "            # cursor position is after the operation\n",
    "            replace_text = i[\"text_change\"].split(\" => \") # replace_text = [\"original word\" , \"newWord\"]\n",
    "            essay_text = essay_text[:cursor_position - len(replace_text[1])] + replace_text[1] + essay_text[cursor_position - len(replace_text[1]) + len(replace_text[0]):]\n",
    "            continue\n",
    "\n",
    "        if i[\"activity\"] == \"Remove/Cut\":\n",
    "            remove_word = i[\"text_change\"]\n",
    "            essay_text = essay_text[:cursor_position] + essay_text[cursor_position+ len(remove_word):]\n",
    "            continue\n",
    "    \n",
    "        \n",
    "        if i[\"activity\"] == \"Paste\":\n",
    "            text = i[\"text_change\"]\n",
    "            essay_text = essay_text[:cursor_position-len(text)] + text + essay_text[cursor_position - len(text):]\n",
    "            continue\n",
    "    \n",
    "        if i[\"activity\"].startswith(\"Move\"):\n",
    "            text = i[\"activity\"]\n",
    "            matches = re.findall(r'\\[.*?\\]', text)\n",
    "            arrays = [eval(match) for match in matches]\n",
    "    \n",
    "            # Move the text from array[0] to array[1] postion \n",
    "            if arrays[0][0] < arrays[1][0]:\n",
    "                # Here movement is done from the lower of the text to the higher part of the tex+t\n",
    "                essay_text = essay_text[:arrays[0][0]] + essay_text[arrays[0][1] : arrays[1][0]] + essay_text[arrays[0][0] : arrays[0][1]] + essay_text[arrays[1][0]:]\n",
    "            else:\n",
    "                # Here movement is done from the higher end to the lower end \n",
    "                essay_text = essay_text[:arrays[1][0]] + essay_text[arrays[0][0]: arrays[0][1]] + essay_text[arrays[1][0]: arrays[0][0]] + essay_text[arrays[0][1]:]\n",
    "            continue\n",
    "    return essay_text\n",
    "\n",
    "def count_punctuations(sentence):\n",
    "    punctuation_count = sum(1 for char in sentence if char in string.punctuation)\n",
    "    return punctuation_count"
   ]
  },
  {
   "cell_type": "code",
   "execution_count": 41,
   "metadata": {},
   "outputs": [],
   "source": [
    "def GetEssay(train_logs_df,train_postprocessed_df):\n",
    "    temp_df = copy.deepcopy(train_logs_df)\n",
    "    essay = temp_df.groupby(\"id\").apply(lambda x : EssayGenerator(x))\n",
    "    final_df = pd.DataFrame(essay).reset_index()\n",
    "    final_df.columns = [\"_id\",\"essay\"]\n",
    "    final_df = pd.merge(final_df,train_postprocessed_df,on = \"_id\",how = \"inner\")\n",
    "    \n",
    "\n",
    "    #Adding essay Level features\n",
    "    \n",
    "    # {'+', '&', '\\x99', '[', '~', '|', 'e', '\\\\', '\\x96', '_', '.', '%', 'o', '\\x86', '¡', 'g', '@', 'Ë', \n",
    "    #  'h', 'C', '$', 'n', '<', 'Ä', ']', '-', '*', 'â', '^', '`', '=', '·', '#', ',', '(', 'Å', 'a', '\\xa0', '\\x92', \n",
    "    #  '\\x9b', '\\x93', '?', 'N', '\\x80', '\\x97', ';', '\"', ')', '\\x9f', \"'\", '/', '\\x94', 'ä', ':', '}', ' ', '!', '{', '¿', '>', '\\n', 'q', '±', 'Â', '´'}\n",
    "    \n",
    "    final_df[\"number_of_commas_in_essay\"] = final_df[\"essay\"].str.count(\",\")\n",
    "    final_df[\"number_of_exclamation_in_essay\"] = final_df[\"essay\"].str.count(\"!\")\n",
    "    final_df[\"number_of_questionmark_in_essay\"] = final_df[\"essay\"].str.count(\"\\?\")\n",
    "    final_df[\"number_of_fullstops_in_essay\"] = final_df[\"essay\"].str.count(\".\")\n",
    "    final_df[\"number_of_singlequotes_in_essay\"] = final_df[\"essay\"].str.count(\"'\")\n",
    "    final_df[\"number_of_doublequotes_in_essay\"] = final_df[\"essay\"].str.count('\"')\n",
    "    final_df[\"number_of_semicolon_in_essay\"] = final_df[\"essay\"].str.count(';')\n",
    "    final_df[\"number_of_colon_in_essay\"] = final_df[\"essay\"].str.count(':')\n",
    "\n",
    "\n",
    "    # return final_df\n",
    "\n",
    "    #Adding the sentence length\n",
    "    sentence_level_features = {\n",
    "        \"number_of_sentence\":[],\n",
    "        \"max_length_sentence\":[],\n",
    "        \"min_length_sentence\":[],\n",
    "        \"max_punchuation_sentence\":[],\n",
    "        \"max_number_of_spaces_per_sentence\" : [],\n",
    "        \"min_number_of_spaces_per_sentence\" : [],\n",
    "        \"average_length_sentence\": [],\n",
    "        \"std_length_sentence\" : [],\n",
    "        \"max_number_of_words_sentence\":[],\n",
    "        \"min_number_of_words_sentence\":[],\n",
    "    }\n",
    "    for row in final_df[\"essay\"].apply(lambda x: re.split('\\\\.|\\\\?|\\\\!',x)):\n",
    "        # Iterating through the sentences rowise\n",
    "        row = [x.replace(\"\\n\",\"\") for x in row]\n",
    "        sentence_level_features[\"number_of_sentence\"].append(len(row))\n",
    "        sentence_lengths = [len(s) for s in row]\n",
    "        word_counts = [len(s.split()) for s in row]\n",
    "        sentence_level_features[\"max_length_sentence\"].append(max(sentence_lengths))\n",
    "        sentence_level_features[\"min_length_sentence\"].append(min(sentence_lengths))\n",
    "        sentence_level_features[\"max_number_of_spaces_per_sentence\"].append(len(max(row,key = lambda s : len(s.split()))))\n",
    "        sentence_level_features[\"min_number_of_spaces_per_sentence\"].append(len(min(row,key = lambda s : len(s.split())))) \n",
    "        sentence_level_features[\"max_punchuation_sentence\"].append(len(max(row,key = lambda s : count_punctuations(s))))\n",
    "        sentence_level_features[\"average_length_sentence\"].append(sum(sentence_lengths)/len(sentence_lengths))\n",
    "        if len(sentence_lengths) >= 2:\n",
    "            sentence_level_features[\"std_length_sentence\"].append(statistics.stdev(sentence_lengths))\n",
    "        else:\n",
    "            sentence_level_features[\"std_length_sentence\"].append(0)\n",
    "\n",
    "        sentence_level_features[\"max_number_of_words_sentence\"].append(max(word_counts))\n",
    "        sentence_level_features[\"min_number_of_words_sentence\"].append(min(word_counts))\n",
    "\n",
    "    sentence_level_df = pd.DataFrame(sentence_level_features)\n",
    "    final_df = pd.concat([final_df,sentence_level_df],axis = 1)\n",
    "\n",
    "    # Adding word level features \n",
    "    word_level_features = {\n",
    "        \"max_word_length\" : [],\n",
    "        \"min_word_length\" : [],\n",
    "        \"average_word_length\":[],\n",
    "        \"number_of_words\" : [],\n",
    "        \"number_of_1_character_word\" : [],\n",
    "        \"number_of_2_character_word\" : [],\n",
    "        \"number_of_3_character_word\" : [],\n",
    "        \"number_of_4_character_word\" : [],\n",
    "        \"number_of_5_character_word\" : [],\n",
    "        \"number_of_6_character_word\" : [],\n",
    "        \"number_of_7_character_word\" : [],\n",
    "        \n",
    "    }\n",
    "    for row in final_df[\"essay\"].str.split():\n",
    "        # if len(row) == 0:\n",
    "        #     continue\n",
    "        word_level_features[\"max_word_length\"].append(len(max(row,key = lambda s: len(s))))\n",
    "        word_level_features[\"min_word_length\"].append(len(min(row,key = lambda s: len(s))))\n",
    "    \n",
    "        average = sum([len(s) for s in row]) / len(row)\n",
    "\n",
    "        number_of_character_word = [len(s) for s in row]\n",
    "    \n",
    "        word_level_features[\"average_word_length\"].append(average)\n",
    "        word_level_features[\"number_of_words\"].append(len(row))\n",
    "        word_level_features[\"number_of_1_character_word\"].append(number_of_character_word.count(1))\n",
    "        word_level_features[\"number_of_2_character_word\"].append(number_of_character_word.count(2))\n",
    "        word_level_features[\"number_of_3_character_word\"].append(number_of_character_word.count(3))\n",
    "        word_level_features[\"number_of_4_character_word\"].append(number_of_character_word.count(4))\n",
    "        word_level_features[\"number_of_5_character_word\"].append(number_of_character_word.count(5))\n",
    "        word_level_features[\"number_of_6_character_word\"].append(number_of_character_word.count(6))\n",
    "        word_level_features[\"number_of_7_character_word\"].append(sum(i for i in number_of_character_word if i >= 7))\n",
    "    \n",
    "\n",
    "    word_level_df = pd.DataFrame(word_level_features)\n",
    "    final_df = pd.concat([final_df,word_level_df],axis = 1)\n",
    "\n",
    "    # Adding paragraph level features\n",
    "    paragraph_level_features = {\n",
    "        \"number_of_paragraphs\" : [],\n",
    "        \"max_length_paragraphs\" : [],\n",
    "        \"min_length_paragraphs\" : [],\n",
    "        \"max_number_of_spaces_paragraph\" : [],\n",
    "        \"max_number_of_sentence_paragraph\" : [],\n",
    "        \"min_number_of_sentence_paragraph\" : [],\n",
    "        \"average_number_of_sentence_paragraph\" : [],\n",
    "        \"first_para_last_para_ratio\" : [],\n",
    "        \"first_and_last_para_to_rest_para_length_ra\"\n",
    "        # first para last para ration \n",
    "        # first + last para length body length(para) ration\n",
    "    }\n",
    "    for row in final_df[\"essay\"].str.split(\"\\n\"):\n",
    "        non_empty_lines = [line for line in row if line]\n",
    "        number_of_sentences = [len(list(re.split(r'[.!?]', s))) for s in non_empty_lines]\n",
    "        \n",
    "        paragraph_level_features[\"number_of_paragraphs\"].append(len(non_empty_lines))\n",
    "        paragraph_level_features[\"max_length_paragraphs\"].append(len(max(non_empty_lines,key = lambda s: len(s))))\n",
    "        paragraph_level_features[\"min_length_paragraphs\"].append(len(max(non_empty_lines,key = lambda s: len(s))))\n",
    "        paragraph_level_features[\"max_number_of_spaces_paragraph\"].append(len(max(non_empty_lines,key = lambda s: len(s.split())).split())-1)\n",
    "        paragraph_level_features[\"max_number_of_sentence_paragraph\"].append(max(number_of_sentences))\n",
    "        paragraph_level_features[\"min_number_of_sentence_paragraph\"].append(min(number_of_sentences))\n",
    "        paragraph_level_features[\"average_number_of_sentence_paragraph\"].append(sum(number_of_sentences)/len(number_of_sentences))\n",
    "\n",
    "\n",
    "    paragraph_level_df = pd.DataFrame(paragraph_level_features)\n",
    "    final_df = pd.concat([final_df,paragraph_level_df],axis = 1)\n",
    "    \n",
    "    return final_df"
   ]
  },
  {
   "cell_type": "code",
   "execution_count": null,
   "metadata": {},
   "outputs": [],
   "source": [
    "final_df = GetEssay(train_logs_df,train_postprocessed_df)"
   ]
  },
  {
   "cell_type": "code",
   "execution_count": null,
   "metadata": {},
   "outputs": [],
   "source": [
    "final_df.columns"
   ]
  },
  {
   "cell_type": "code",
   "execution_count": null,
   "metadata": {},
   "outputs": [],
   "source": [
    "final_df[[\"number_of_1_character_word\",\"number_of_2_character_word\",\"number_of_3_character_word\",\"number_of_4_character_word\"]]"
   ]
  },
  {
   "cell_type": "code",
   "execution_count": 16,
   "metadata": {},
   "outputs": [],
   "source": [
    "# #Adding the sentence length\n",
    "# k = 0\n",
    "# sentence_level_features = {\n",
    "#     \"number_of_sentence\":[],\n",
    "#     \"max_length_sentence\":[],\n",
    "#     \"min_length_sentence\":[],\n",
    "#     \"max_punchuation_sentence\":[],\n",
    "#     \"max_number_of_spaces_per_sentence\" : [],\n",
    "#     \"min_number_of_spaces_per_sentence\" : [],\n",
    "#     \"average_length_sentence\": [],\n",
    "#     \"std_length_sentence\" : [],\n",
    "#     \"max_number_of_words_sentence\":[],\n",
    "#     \"min_number_of_words_sentence\":[],\n",
    "# }\n",
    "\n",
    "# for row in final_df[\"essay\"].apply(lambda x: re.split('\\\\.|\\\\?|\\\\!',x)):\n",
    "#     if k > 10:\n",
    "#         break\n",
    "#     else:\n",
    "#         k+=1\n",
    "#     # Iterating through the sentences rowise\n",
    "#     row = [x.replace(\"\\n\",\"\") for x in row]\n",
    "#     print(row,end = \"\\n\\n\\n\\n\\n\\n\\n\\n\\n\\n\\n\\n\\n\\n\\n\")\n",
    "#     sentence_level_features[\"number_of_sentence\"].append(len(row))\n",
    "#     sentence_lengths = [len(s) for s in row]\n",
    "#     word_counts = [len(s.split()) for s in row]\n",
    "#     sentence_level_features[\"max_length_sentence\"].append(max(sentence_lengths))\n",
    "#     sentence_level_features[\"min_length_sentence\"].append(min(sentence_lengths))\n",
    "#     sentence_level_features[\"max_number_of_spaces_per_sentence\"].append(len(max(row,key = lambda s : len(s.split()))))\n",
    "#     sentence_level_features[\"min_number_of_spaces_per_sentence\"].append(len(min(row,key = lambda s : len(s.split())))) \n",
    "#     sentence_level_features[\"max_punchuation_sentence\"].append(len(max(row,key = lambda s : count_punctuations(s))))\n",
    "#     sentence_level_features[\"average_length_sentence\"].append(sum(sentence_lengths)/len(sentence_lengths))\n",
    "#     sentence_level_features[\"std_length_sentence\"].append(statistics.stdev(sentence_lengths))\n",
    "#     sentence_level_features[\"max_number_of_words_sentence\"].append(max(word_counts))\n",
    "#     sentence_level_features[\"min_number_of_words_sentence\"].append(min(word_counts))"
   ]
  },
  {
   "cell_type": "code",
   "execution_count": 17,
   "metadata": {},
   "outputs": [],
   "source": [
    "#  # Adding word level features \n",
    "# word_level_features = {\n",
    "#     \"max_word_length\" : [],\n",
    "#     \"min_word_length\" : [],\n",
    "#     \"average_word_length\":[],\n",
    "#     \"number_of_words\" : [],\n",
    "# }\n",
    "# k = 0\n",
    "# for row in final_df[\"essay\"].str.split():\n",
    "#     print(row,end = \"\\n\\n\\n\\n\\n\\n\\n\\n\\n\\n\\n\\n\\n\")\n",
    "#     k += 1\n",
    "#     if k > 10: \n",
    "#         break\n",
    "#     word_level_features[\"max_word_length\"].append(len(max(row,key = lambda s: len(s))))\n",
    "#     word_level_features[\"min_word_length\"].append(len(min(row,key = lambda s: len(s))))\n",
    "\n",
    "#     average = sum([len(s) for s in row]) / len(row)\n",
    "\n",
    "#     word_level_features[\"average_word_length\"].append(average)\n",
    "#     word_level_features[\"number_of_words\"].append(len(row))\n"
   ]
  },
  {
   "cell_type": "code",
   "execution_count": 18,
   "metadata": {},
   "outputs": [],
   "source": [
    "#  # Adding paragraph level features\n",
    "# paragraph_level_features = {\n",
    "#     \"number_of_paragraphs\" : [],\n",
    "#     \"max_length_paragraphs\" : [],\n",
    "#     \"min_length_paragraphs\" : [],\n",
    "#     \"max_number_of_spaces_paragraph\" : [],\n",
    "# }\n",
    "# k = 0\n",
    "# for row in final_df[\"essay\"].str.split(\"\\n\"):\n",
    "#     k +=1 \n",
    "#     if k > 10:\n",
    "#         break\n",
    "    \n",
    "#     non_empty_lines = [line for line in row if line]\n",
    "#     # print(non_empty_lines,end = \"\\n\\n\\n\\n\\n\\n\\n\\n\\n\")\n",
    "#     number_of_sentences = [len(list(re.split(r'[.!?]', s))) for s in non_empty_lines]\n",
    "#     print(number_of_sentences)\n",
    "#     paragraph_level_features[\"number_of_paragraphs\"].append(len(non_empty_lines))\n",
    "#     paragraph_level_features[\"max_length_paragraphs\"].append(len(max(non_empty_lines,key = lambda s: len(s))))\n",
    "#     paragraph_level_features[\"min_length_paragraphs\"].append(len(max(non_empty_lines,key = lambda s: len(s))))\n",
    "#     paragraph_level_features[\"max_number_of_spaces_paragraph\"].append(len(max(non_empty_lines,key = lambda s: len(s.split())).split())-1)"
   ]
  },
  {
   "cell_type": "code",
   "execution_count": null,
   "metadata": {},
   "outputs": [],
   "source": []
  },
  {
   "cell_type": "code",
   "execution_count": null,
   "metadata": {},
   "outputs": [],
   "source": []
  },
  {
   "cell_type": "code",
   "execution_count": null,
   "metadata": {},
   "outputs": [],
   "source": []
  },
  {
   "cell_type": "markdown",
   "metadata": {
    "collapsed": false,
    "jupyter": {
     "outputs_hidden": false
    }
   },
   "source": [
    "# Data Filteration"
   ]
  },
  {
   "cell_type": "code",
   "execution_count": 29,
   "metadata": {
    "ExecuteTime": {
     "end_time": "2023-11-12T22:16:54.809113Z",
     "start_time": "2023-11-12T22:16:54.800556Z"
    },
    "collapsed": false,
    "jupyter": {
     "outputs_hidden": false
    }
   },
   "outputs": [],
   "source": [
    "# Splitting the dataset between the categorical and numerical values\n",
    "num_attributes = [\"id\",\"event_id\",\"down_time\",\"up_time\",\"action_time\",\"cursor_position\",\"word_count\"]\n",
    "cat_attributes = [\"activity\",\"down_event\",\"up_event\",\"text_change\"]"
   ]
  },
  {
   "cell_type": "code",
   "execution_count": 30,
   "metadata": {
    "ExecuteTime": {
     "end_time": "2023-11-12T22:16:55.202485Z",
     "start_time": "2023-11-12T22:16:55.200133Z"
    },
    "collapsed": false,
    "jupyter": {
     "outputs_hidden": false
    }
   },
   "outputs": [],
   "source": [
    "processing = ColumnTransformer([\n",
    "    (\"RemoveId\",make_pipeline(Reduce_numerical_columns()),num_attributes),\n",
    "     (\"ValueSum\",make_pipeline(Reduce_text_change()),[\"text_change\",\"id\"]),\n",
    "    (\"RemoveMove\",make_pipeline(Reduce_activity(),OneHotEncoder(sparse_output=False)),[\"activity\"]),\n",
    "    # (\"ReduceUpEvents\",make_pipeline(Reduce_event(name = \"Up\")),[\"up_event\"]),\n",
    "    (\"ReduceDownEvents\",make_pipeline(Reduce_event(name = \"Down\")),[\"down_event\"]),   \n",
    "],\n",
    "    # remainder=\"passthrough\"\n",
    ")"
   ]
  },
  {
   "cell_type": "code",
   "execution_count": 31,
   "metadata": {
    "ExecuteTime": {
     "end_time": "2023-11-12T22:19:14.124306Z",
     "start_time": "2023-11-12T22:16:55.490369Z"
    },
    "collapsed": false,
    "jupyter": {
     "outputs_hidden": false
    }
   },
   "outputs": [],
   "source": [
    "train_logs_df,y = getX_Y(train_logs_df,train_scores_df,perform_harmonic_variation=False,aggregation=True)\n",
    "train_processed_numpy = processing.fit_transform(train_logs_df)\n",
    "test_processed_numpy = processing.transform(test_logs_df)\n",
    "train_processed_df = pd.DataFrame(train_processed_numpy,columns=processing.get_feature_names_out())\n",
    "test_processed_df = pd.DataFrame(test_processed_numpy,columns=processing.get_feature_names_out())"
   ]
  },
  {
   "cell_type": "code",
   "execution_count": 32,
   "metadata": {
    "ExecuteTime": {
     "end_time": "2023-11-12T22:19:14.127167Z",
     "start_time": "2023-11-12T22:19:14.125628Z"
    },
    "collapsed": false,
    "jupyter": {
     "outputs_hidden": false
    }
   },
   "outputs": [],
   "source": [
    "post_processing = make_pipeline(Aggregation())"
   ]
  },
  {
   "cell_type": "code",
   "execution_count": 33,
   "metadata": {
    "ExecuteTime": {
     "end_time": "2023-11-12T22:23:04.475134Z",
     "start_time": "2023-11-12T22:19:14.125995Z"
    },
    "collapsed": false,
    "jupyter": {
     "outputs_hidden": false
    }
   },
   "outputs": [],
   "source": [
    "# Concating the columns \n",
    "train_postprocessed_df = ConcatAlongId(train_processed_df,train_logs_df)\n",
    "test_postprocessed_df = ConcatAlongId(test_processed_df,test_logs_df)\n",
    "\n",
    "# Aggreagating the columns for both train and test\n",
    "train_postprocessed_numpy = post_processing.fit_transform(train_postprocessed_df)\n",
    "train_postprocessed_df = pd.DataFrame(train_postprocessed_numpy,columns=post_processing.get_feature_names_out())\n",
    "test_postprocessed_numpy = post_processing.transform(test_postprocessed_df)\n",
    "test_postprocessed_df = pd.DataFrame(test_postprocessed_numpy,columns=post_processing.get_feature_names_out())\n",
    "\n",
    "# # Adding the essay level features \n",
    "# train_postprocessed_df = GetEssay(train_logs_df,train_postprocessed_df)\n",
    "# test_postprocessed_df = GetEssay(test_logs_df,test_postprocessed_df)\n",
    "\n",
    "# # Remvoing id and essay\n",
    "# train_postprocessed_df.drop([\"_id\",\"essay\"],inplace = True,axis = 1)\n",
    "# test_postprocessed_df.drop([\"_id\",\"essay\"],inplace = True,axis = 1)\n",
    "\n",
    "# #Convert each of types to float\n",
    "# train_postprocessed_df = train_postprocessed_df.astype(float)\n",
    "# test_postprocessed_df = test_postprocessed_df.astype(float)"
   ]
  },
  {
   "cell_type": "code",
   "execution_count": 21,
   "metadata": {},
   "outputs": [],
   "source": [
    "# train_processed_df = ConcatAlongId(train_processed_df,train_logs_df)"
   ]
  },
  {
   "cell_type": "code",
   "execution_count": 22,
   "metadata": {},
   "outputs": [],
   "source": [
    "# train_processed_df"
   ]
  },
  {
   "cell_type": "code",
   "execution_count": 23,
   "metadata": {},
   "outputs": [],
   "source": [
    "# k = 0\n",
    "# for i in train_processed_df[\"id\"].unique():\n",
    "#     temp_df = train_processed_df[train_processed_df[\"id\"] == i]\n",
    "#     plt.plot(np.arange(len(temp_df)),temp_df[\"activity_Nonproduction\"])\n",
    "#     k+=1\n",
    "#     if k == 100:\n",
    "#         break\n",
    "# plt.show()\n",
    "    "
   ]
  },
  {
   "cell_type": "code",
   "execution_count": 24,
   "metadata": {},
   "outputs": [],
   "source": [
    "# len(train_processed_df)"
   ]
  },
  {
   "cell_type": "code",
   "execution_count": null,
   "metadata": {},
   "outputs": [],
   "source": []
  },
  {
   "cell_type": "code",
   "execution_count": null,
   "metadata": {},
   "outputs": [],
   "source": []
  },
  {
   "cell_type": "code",
   "execution_count": null,
   "metadata": {},
   "outputs": [],
   "source": []
  },
  {
   "cell_type": "code",
   "execution_count": null,
   "metadata": {},
   "outputs": [],
   "source": []
  },
  {
   "cell_type": "code",
   "execution_count": null,
   "metadata": {},
   "outputs": [],
   "source": []
  },
  {
   "cell_type": "code",
   "execution_count": null,
   "metadata": {},
   "outputs": [],
   "source": []
  },
  {
   "cell_type": "code",
   "execution_count": null,
   "metadata": {},
   "outputs": [],
   "source": []
  },
  {
   "cell_type": "code",
   "execution_count": null,
   "metadata": {},
   "outputs": [],
   "source": []
  },
  {
   "cell_type": "code",
   "execution_count": null,
   "metadata": {},
   "outputs": [],
   "source": []
  },
  {
   "cell_type": "code",
   "execution_count": null,
   "metadata": {},
   "outputs": [],
   "source": []
  },
  {
   "cell_type": "code",
   "execution_count": null,
   "metadata": {},
   "outputs": [],
   "source": []
  },
  {
   "cell_type": "code",
   "execution_count": null,
   "metadata": {},
   "outputs": [],
   "source": []
  },
  {
   "cell_type": "code",
   "execution_count": null,
   "metadata": {},
   "outputs": [],
   "source": []
  },
  {
   "cell_type": "code",
   "execution_count": null,
   "metadata": {},
   "outputs": [],
   "source": []
  },
  {
   "cell_type": "code",
   "execution_count": null,
   "metadata": {},
   "outputs": [],
   "source": []
  },
  {
   "cell_type": "code",
   "execution_count": null,
   "metadata": {},
   "outputs": [],
   "source": []
  },
  {
   "cell_type": "code",
   "execution_count": 24,
   "metadata": {},
   "outputs": [
    {
     "name": "stdout",
     "output_type": "stream",
     "text": [
      "[100]\tvalid_0's rmse: 0.620946\n",
      "[200]\tvalid_0's rmse: 0.625006\n",
      "[300]\tvalid_0's rmse: 0.630092\n",
      "[100]\tvalid_0's rmse: 0.534845\n",
      "[200]\tvalid_0's rmse: 0.529857\n",
      "[300]\tvalid_0's rmse: 0.531545\n",
      "[100]\tvalid_0's rmse: 0.710359\n",
      "[200]\tvalid_0's rmse: 0.71577\n",
      "[100]\tvalid_0's rmse: 0.660645\n",
      "[200]\tvalid_0's rmse: 0.656952\n",
      "[300]\tvalid_0's rmse: 0.663233\n",
      "[400]\tvalid_0's rmse: 0.671568\n",
      "[100]\tvalid_0's rmse: 0.621276\n",
      "[200]\tvalid_0's rmse: 0.622076\n",
      "[300]\tvalid_0's rmse: 0.621922\n",
      "[100]\tvalid_0's rmse: 0.645954\n",
      "[200]\tvalid_0's rmse: 0.64724\n",
      "[300]\tvalid_0's rmse: 0.647026\n",
      "[100]\tvalid_0's rmse: 0.683349\n",
      "[200]\tvalid_0's rmse: 0.685743\n",
      "[100]\tvalid_0's rmse: 0.64527\n",
      "[200]\tvalid_0's rmse: 0.648831\n",
      "[100]\tvalid_0's rmse: 0.658947\n",
      "[200]\tvalid_0's rmse: 0.661044\n",
      "[300]\tvalid_0's rmse: 0.666659\n",
      "[100]\tvalid_0's rmse: 0.626457\n",
      "[200]\tvalid_0's rmse: 0.639635\n",
      "[100]\tvalid_0's rmse: 0.636169\n",
      "[200]\tvalid_0's rmse: 0.64533\n",
      "[100]\tvalid_0's rmse: 0.60037\n",
      "[200]\tvalid_0's rmse: 0.608944\n",
      "[100]\tvalid_0's rmse: 0.600174\n",
      "[200]\tvalid_0's rmse: 0.597562\n",
      "[300]\tvalid_0's rmse: 0.597825\n",
      "[400]\tvalid_0's rmse: 0.600112\n",
      "[100]\tvalid_0's rmse: 0.651397\n",
      "[200]\tvalid_0's rmse: 0.665177\n",
      "[100]\tvalid_0's rmse: 0.628933\n",
      "[200]\tvalid_0's rmse: 0.629234\n",
      "[300]\tvalid_0's rmse: 0.635815\n",
      "[100]\tvalid_0's rmse: 0.649286\n",
      "[200]\tvalid_0's rmse: 0.656678\n",
      "[100]\tvalid_0's rmse: 0.667057\n",
      "[200]\tvalid_0's rmse: 0.663241\n",
      "[300]\tvalid_0's rmse: 0.66645\n",
      "[100]\tvalid_0's rmse: 0.620058\n",
      "[200]\tvalid_0's rmse: 0.623196\n",
      "[300]\tvalid_0's rmse: 0.627913\n",
      "[100]\tvalid_0's rmse: 0.701439\n",
      "[200]\tvalid_0's rmse: 0.707721\n",
      "[300]\tvalid_0's rmse: 0.715389\n",
      "[100]\tvalid_0's rmse: 0.668878\n",
      "[200]\tvalid_0's rmse: 0.665861\n",
      "[300]\tvalid_0's rmse: 0.671554\n",
      "[100]\tvalid_0's rmse: 0.703603\n",
      "[200]\tvalid_0's rmse: 0.70768\n",
      "[100]\tvalid_0's rmse: 0.627322\n",
      "[200]\tvalid_0's rmse: 0.641877\n",
      "[100]\tvalid_0's rmse: 0.608853\n",
      "[200]\tvalid_0's rmse: 0.609423\n",
      "[300]\tvalid_0's rmse: 0.612571\n",
      "[100]\tvalid_0's rmse: 0.612804\n",
      "[200]\tvalid_0's rmse: 0.620087\n",
      "[100]\tvalid_0's rmse: 0.623608\n",
      "[200]\tvalid_0's rmse: 0.62316\n",
      "[300]\tvalid_0's rmse: 0.629635\n",
      "[100]\tvalid_0's rmse: 0.658187\n",
      "[200]\tvalid_0's rmse: 0.665707\n",
      "[300]\tvalid_0's rmse: 0.670231\n",
      "[100]\tvalid_0's rmse: 0.726408\n",
      "[200]\tvalid_0's rmse: 0.730033\n",
      "[100]\tvalid_0's rmse: 0.594018\n",
      "[200]\tvalid_0's rmse: 0.600935\n",
      "[100]\tvalid_0's rmse: 0.654996\n",
      "[200]\tvalid_0's rmse: 0.672451\n",
      "[100]\tvalid_0's rmse: 0.609262\n",
      "[200]\tvalid_0's rmse: 0.599187\n",
      "[300]\tvalid_0's rmse: 0.600085\n",
      "[400]\tvalid_0's rmse: 0.602744\n",
      "[100]\tvalid_0's rmse: 0.658947\n",
      "[200]\tvalid_0's rmse: 0.663738\n",
      "[300]\tvalid_0's rmse: 0.662312\n",
      "[100]\tvalid_0's rmse: 0.643475\n",
      "[200]\tvalid_0's rmse: 0.645956\n",
      "[300]\tvalid_0's rmse: 0.648308\n",
      "[100]\tvalid_0's rmse: 0.673126\n",
      "[200]\tvalid_0's rmse: 0.673226\n",
      "[300]\tvalid_0's rmse: 0.677281\n",
      "[100]\tvalid_0's rmse: 0.640078\n",
      "[200]\tvalid_0's rmse: 0.632329\n",
      "[300]\tvalid_0's rmse: 0.636208\n",
      "[100]\tvalid_0's rmse: 0.681177\n",
      "[200]\tvalid_0's rmse: 0.685293\n",
      "[300]\tvalid_0's rmse: 0.690241\n",
      "[100]\tvalid_0's rmse: 0.575897\n",
      "[200]\tvalid_0's rmse: 0.589048\n",
      "[100]\tvalid_0's rmse: 0.647579\n",
      "[200]\tvalid_0's rmse: 0.644154\n",
      "[300]\tvalid_0's rmse: 0.646197\n",
      "[100]\tvalid_0's rmse: 0.638901\n",
      "[200]\tvalid_0's rmse: 0.647966\n",
      "[100]\tvalid_0's rmse: 0.700901\n",
      "[200]\tvalid_0's rmse: 0.705841\n",
      "[100]\tvalid_0's rmse: 0.568744\n",
      "[200]\tvalid_0's rmse: 0.571037\n",
      "[100]\tvalid_0's rmse: 0.646081\n",
      "[200]\tvalid_0's rmse: 0.658784\n",
      "[100]\tvalid_0's rmse: 0.618216\n",
      "[200]\tvalid_0's rmse: 0.626621\n",
      "[300]\tvalid_0's rmse: 0.626728\n",
      "[100]\tvalid_0's rmse: 0.635668\n",
      "[200]\tvalid_0's rmse: 0.635853\n",
      "[300]\tvalid_0's rmse: 0.64293\n",
      "[100]\tvalid_0's rmse: 0.63617\n",
      "[200]\tvalid_0's rmse: 0.631145\n",
      "[300]\tvalid_0's rmse: 0.635881\n",
      "[100]\tvalid_0's rmse: 0.602344\n",
      "[200]\tvalid_0's rmse: 0.613089\n",
      "[300]\tvalid_0's rmse: 0.617432\n",
      "[100]\tvalid_0's rmse: 0.695753\n",
      "[200]\tvalid_0's rmse: 0.695062\n",
      "[300]\tvalid_0's rmse: 0.69699\n",
      "[100]\tvalid_0's rmse: 0.616658\n",
      "[200]\tvalid_0's rmse: 0.620673\n",
      "[300]\tvalid_0's rmse: 0.633071\n",
      "[100]\tvalid_0's rmse: 0.645315\n",
      "[200]\tvalid_0's rmse: 0.643629\n",
      "[300]\tvalid_0's rmse: 0.65227\n",
      "[100]\tvalid_0's rmse: 0.675081\n",
      "[200]\tvalid_0's rmse: 0.68245\n",
      "[300]\tvalid_0's rmse: 0.689491\n",
      "[100]\tvalid_0's rmse: 0.670582\n",
      "[200]\tvalid_0's rmse: 0.67142\n",
      "[300]\tvalid_0's rmse: 0.678197\n"
     ]
    }
   ],
   "source": [
    "# Code comes from here: https://www.kaggle.com/code/abdullahmeda/enter-ing-the-timeseries-space-sec-3-new-aggs\n",
    "import lightgbm as lgb\n",
    "from sklearn import model_selection, metrics\n",
    "\n",
    "models_dict = {}\n",
    "scores = []\n",
    "\n",
    "test_predict_list = []\n",
    "best_params = {'reg_alpha': 0.007678095440286993, \n",
    "               'reg_lambda': 0.34230534302168353, \n",
    "               'colsample_bytree': 0.627061253588415, \n",
    "               'subsample': 0.854942238828458, \n",
    "               'learning_rate': 0.038697981947473245, \n",
    "               'num_leaves': 22, \n",
    "               'max_depth': 37, \n",
    "               'min_child_samples': 18}\n",
    "\n",
    "for i in range(5): \n",
    "    kf = model_selection.KFold(n_splits=10, random_state=42 + i, shuffle=True)\n",
    "    oof_valid_preds = np.zeros(train_postprocessed_df.shape[0])\n",
    "    X_test = test_postprocessed_df\n",
    "    for fold, (train_idx, valid_idx) in enumerate(kf.split(train_postprocessed_df)):\n",
    "        \n",
    "        X_train = train_postprocessed_df.iloc[train_idx]\n",
    "        y_train = y.iloc[train_idx]\n",
    "        X_valid = train_postprocessed_df.iloc[valid_idx]\n",
    "        y_valid = y.iloc[valid_idx]\n",
    "        params = {\n",
    "            \"objective\": \"regression\",\n",
    "            \"metric\": \"rmse\",\n",
    "            'random_state': 42,\n",
    "            \"n_estimators\" : 12001,\n",
    "            \"verbosity\": -1,\n",
    "            **best_params\n",
    "        }\n",
    "        model = lgb.LGBMRegressor(**params)\n",
    "        early_stopping_callback = lgb.early_stopping(200, first_metric_only=True, verbose=False)\n",
    "        verbose_callback = lgb.log_evaluation(100)\n",
    "        model.fit(X_train, y_train, eval_set=[(X_valid, y_valid)],  \n",
    "                  callbacks=[early_stopping_callback, verbose_callback],\n",
    "        )\n",
    "        valid_predict = model.predict(X_valid)\n",
    "        oof_valid_preds[valid_idx] = valid_predict\n",
    "        test_predict = model.predict(X_test)\n",
    "        test_predict_list.append(test_predict)\n",
    "        score = metrics.mean_squared_error(y_valid, valid_predict, squared=False)\n",
    "        models_dict[f'{fold}_{i}'] = model\n",
    "\n",
    "    oof_score = metrics.mean_squared_error(y, oof_valid_preds, squared=False)\n",
    "    scores.append(oof_score)"
   ]
  },
  {
   "cell_type": "code",
   "execution_count": 25,
   "metadata": {},
   "outputs": [
    {
     "data": {
      "image/png": "[encoded data removed]",
      "text/plain": [
       "<Figure size 1000x12000 with 1 Axes>"
      ]
     },
     "metadata": {},
     "output_type": "display_data"
    }
   ],
   "source": [
    "feature_importances_values = np.asarray([model.feature_importances_ for model in models_dict.values()]).mean(axis=0)\n",
    "feature_importance_df = pd.DataFrame({'name': train_postprocessed_df.columns, 'importance': feature_importances_values})\n",
    "feature_importance_df = feature_importance_df.sort_values('importance', ascending=False)\n",
    "feature_importance_df['group'] = feature_importance_df['name'].apply(\n",
    "    lambda x: 'sentence features' if 'sent' in x else 'paragraph features' if 'paragraph' in x else 'other features')\n",
    "\n",
    "plt.figure(figsize=(10, 120))\n",
    "ax = sns.barplot(data=feature_importance_df, x='importance', y='name', hue='group', dodge=False)\n",
    "ax.set_title(f\"Mean feature importances\")\n",
    "plt.legend(bbox_to_anchor=(1.05, 1), loc='upper left', borderaxespad=0)\n",
    "plt.show()"
   ]
  },
  {
   "cell_type": "code",
   "execution_count": null,
   "metadata": {},
   "outputs": [],
   "source": []
  },
  {
   "cell_type": "code",
   "execution_count": null,
   "metadata": {},
   "outputs": [],
   "source": []
  },
  {
   "cell_type": "code",
   "execution_count": 26,
   "metadata": {
    "ExecuteTime": {
     "end_time": "2023-11-12T08:13:40.712159Z",
     "start_time": "2023-11-12T08:13:40.707723Z"
    },
    "collapsed": false,
    "jupyter": {
     "outputs_hidden": false
    }
   },
   "outputs": [],
   "source": [
    "# model = GradientBoostingRegressor(\n",
    "#     n_estimators=300,\n",
    "#     learning_rate=0.01,\n",
    "#     max_depth=10,\n",
    "#     min_samples_split=3,\n",
    "#     min_samples_leaf=5,\n",
    "#     subsample=0.9,\n",
    "#     random_state=42\n",
    "# )\n",
    "model = RandomForestRegressor(\n",
    "    n_estimators=3000,\n",
    "    max_features='sqrt',\n",
    "    max_depth=None,\n",
    "    min_samples_split=3,\n",
    "    min_samples_leaf=1,\n",
    "    bootstrap=True,\n",
    "    random_state=42\n",
    ")"
   ]
  },
  {
   "cell_type": "code",
   "execution_count": 27,
   "metadata": {
    "ExecuteTime": {
     "end_time": "2023-11-12T08:26:08.845079Z",
     "start_time": "2023-11-12T08:13:41.066788Z"
    },
    "collapsed": false,
    "jupyter": {
     "outputs_hidden": false
    }
   },
   "outputs": [],
   "source": [
    "results = performCrossValidation(model,train_postprocessed_df,train_logs_df,y,aggregation=True)"
   ]
  },
  {
   "cell_type": "code",
   "execution_count": 28,
   "metadata": {
    "ExecuteTime": {
     "end_time": "2023-11-12T08:26:08.856790Z",
     "start_time": "2023-11-12T08:26:08.844444Z"
    },
    "collapsed": false,
    "jupyter": {
     "outputs_hidden": false
    }
   },
   "outputs": [
    {
     "data": {
      "text/html": [
       "<div>\n",
       "<style scoped>\n",
       "    .dataframe tbody tr th:only-of-type {\n",
       "        vertical-align: middle;\n",
       "    }\n",
       "\n",
       "    .dataframe tbody tr th {\n",
       "        vertical-align: top;\n",
       "    }\n",
       "\n",
       "    .dataframe thead th {\n",
       "        text-align: right;\n",
       "    }\n",
       "</style>\n",
       "<table border=\"1\" class=\"dataframe\">\n",
       "  <thead>\n",
       "    <tr style=\"text-align: right;\">\n",
       "      <th></th>\n",
       "      <th>test_score</th>\n",
       "      <th>train_score</th>\n",
       "    </tr>\n",
       "  </thead>\n",
       "  <tbody>\n",
       "    <tr>\n",
       "      <th>0</th>\n",
       "      <td>0.644312</td>\n",
       "      <td>0.251232</td>\n",
       "    </tr>\n",
       "    <tr>\n",
       "      <th>1</th>\n",
       "      <td>0.626592</td>\n",
       "      <td>0.253405</td>\n",
       "    </tr>\n",
       "    <tr>\n",
       "      <th>2</th>\n",
       "      <td>0.667113</td>\n",
       "      <td>0.248088</td>\n",
       "    </tr>\n",
       "    <tr>\n",
       "      <th>3</th>\n",
       "      <td>0.676165</td>\n",
       "      <td>0.248869</td>\n",
       "    </tr>\n",
       "    <tr>\n",
       "      <th>4</th>\n",
       "      <td>0.606757</td>\n",
       "      <td>0.254982</td>\n",
       "    </tr>\n",
       "    <tr>\n",
       "      <th>5</th>\n",
       "      <td>0.681807</td>\n",
       "      <td>0.249161</td>\n",
       "    </tr>\n",
       "  </tbody>\n",
       "</table>\n",
       "</div>"
      ],
      "text/plain": [
       "   test_score  train_score\n",
       "0    0.644312     0.251232\n",
       "1    0.626592     0.253405\n",
       "2    0.667113     0.248088\n",
       "3    0.676165     0.248869\n",
       "4    0.606757     0.254982\n",
       "5    0.681807     0.249161"
      ]
     },
     "execution_count": 28,
     "metadata": {},
     "output_type": "execute_result"
    }
   ],
   "source": [
    "results"
   ]
  },
  {
   "cell_type": "code",
   "execution_count": null,
   "metadata": {},
   "outputs": [],
   "source": []
  },
  {
   "cell_type": "code",
   "execution_count": null,
   "metadata": {},
   "outputs": [],
   "source": []
  },
  {
   "cell_type": "code",
   "execution_count": null,
   "metadata": {},
   "outputs": [],
   "source": []
  },
  {
   "cell_type": "code",
   "execution_count": null,
   "metadata": {},
   "outputs": [],
   "source": []
  },
  {
   "cell_type": "code",
   "execution_count": null,
   "metadata": {},
   "outputs": [],
   "source": []
  },
  {
   "cell_type": "code",
   "execution_count": null,
   "metadata": {},
   "outputs": [],
   "source": []
  },
  {
   "cell_type": "code",
   "execution_count": null,
   "metadata": {},
   "outputs": [],
   "source": []
  },
  {
   "cell_type": "code",
   "execution_count": null,
   "metadata": {},
   "outputs": [],
   "source": []
  },
  {
   "cell_type": "code",
   "execution_count": null,
   "metadata": {},
   "outputs": [],
   "source": []
  },
  {
   "cell_type": "code",
   "execution_count": null,
   "metadata": {},
   "outputs": [],
   "source": []
  },
  {
   "cell_type": "code",
   "execution_count": null,
   "metadata": {},
   "outputs": [],
   "source": []
  },
  {
   "cell_type": "code",
   "execution_count": null,
   "metadata": {
    "collapsed": false,
    "jupyter": {
     "outputs_hidden": false
    }
   },
   "outputs": [],
   "source": [
    "model.fit(train_postprocessed_df,y)"
   ]
  },
  {
   "cell_type": "code",
   "execution_count": null,
   "metadata": {
    "collapsed": false,
    "jupyter": {
     "outputs_hidden": false
    }
   },
   "outputs": [],
   "source": [
    "dataset_train = makePredictions(model,train_postprocessed_df,train_logs_df,aggregation=True)"
   ]
  },
  {
   "cell_type": "code",
   "execution_count": null,
   "metadata": {
    "collapsed": false,
    "jupyter": {
     "outputs_hidden": false
    }
   },
   "outputs": [],
   "source": [
    "dataset_test = makePredictions(model,test_postprocessed_df,test_logs_df,aggregation=True) "
   ]
  },
  {
   "cell_type": "code",
   "execution_count": null,
   "metadata": {
    "collapsed": false,
    "jupyter": {
     "outputs_hidden": false
    }
   },
   "outputs": [],
   "source": [
    "mean_squared_error(y,dataset_train)"
   ]
  },
  {
   "cell_type": "code",
   "execution_count": null,
   "metadata": {
    "collapsed": false,
    "jupyter": {
     "outputs_hidden": false
    }
   },
   "outputs": [],
   "source": [
    "# For submission\n",
    "dataset_test[\"y_pred\"].to_csv(\"submission.csv\")"
   ]
  },
  {
   "cell_type": "markdown",
   "metadata": {
    "collapsed": false,
    "jupyter": {
     "outputs_hidden": false
    }
   },
   "source": [
    "# For Model Optimization"
   ]
  },
  {
   "cell_type": "code",
   "execution_count": null,
   "metadata": {
    "collapsed": false,
    "jupyter": {
     "outputs_hidden": false
    }
   },
   "outputs": [],
   "source": [
    "model,params = getModel(\"RandomForestRegressor\")"
   ]
  },
  {
   "cell_type": "code",
   "execution_count": null,
   "metadata": {
    "collapsed": false,
    "jupyter": {
     "outputs_hidden": false
    }
   },
   "outputs": [],
   "source": [
    "# scores = performCrossValidation(model,train_processed_df,train_logs_df,y)\n",
    "model,results = perfromGridSearch(model,params,train_postprocessed_df,train_logs_df,y,results=True,aggregation=True)"
   ]
  },
  {
   "cell_type": "code",
   "execution_count": null,
   "metadata": {
    "collapsed": false,
    "jupyter": {
     "outputs_hidden": false
    }
   },
   "outputs": [],
   "source": [
    "# model.fit(train_processed_df,y)\n",
    "dataset_train = makePredictions(model,train_postprocessed_df,train_logs_df,aggregation=True)"
   ]
  },
  {
   "cell_type": "code",
   "execution_count": null,
   "metadata": {
    "collapsed": false,
    "jupyter": {
     "outputs_hidden": false
    }
   },
   "outputs": [],
   "source": [
    "dataset_test = makePredictions(model,test_processed_df,test_logs_df,aggregation=True)"
   ]
  },
  {
   "cell_type": "code",
   "execution_count": null,
   "metadata": {
    "collapsed": false,
    "jupyter": {
     "outputs_hidden": false
    }
   },
   "outputs": [],
   "source": [
    "dataset_train.to_csv(\"train.csv\")"
   ]
  },
  {
   "cell_type": "code",
   "execution_count": null,
   "metadata": {
    "collapsed": false,
    "jupyter": {
     "outputs_hidden": false
    }
   },
   "outputs": [],
   "source": [
    "mean_squared_error(dataset_train[\"y_true\"],dataset_train[\"y_pred\"])"
   ]
  },
  {
   "cell_type": "code",
   "execution_count": null,
   "metadata": {
    "collapsed": false,
    "jupyter": {
     "outputs_hidden": false
    }
   },
   "outputs": [],
   "source": [
    "dataset_test[\"y_pred\"].to_csv(\"submission.csv\")"
   ]
  },
  {
   "cell_type": "markdown",
   "metadata": {
    "collapsed": false,
    "jupyter": {
     "outputs_hidden": false
    }
   },
   "source": [
    "# Optimize with Optuna"
   ]
  },
  {
   "cell_type": "code",
   "execution_count": null,
   "metadata": {
    "collapsed": false,
    "jupyter": {
     "outputs_hidden": false
    }
   },
   "outputs": [],
   "source": [
    "def objective(trial):\n",
    "    model,params = getModel(\"RandomForestRegressor\",optuna=True,trial=trial)\n",
    "    score = performKfoldScore(model,train_processed_df,train_logs_df,y,k=3,optuna = True,trial = trial)\n",
    "    params[0]['n_jobs']=[-1]\n",
    "    return score\n",
    "    "
   ]
  },
  {
   "cell_type": "code",
   "execution_count": null,
   "metadata": {
    "collapsed": false,
    "jupyter": {
     "outputs_hidden": false
    }
   },
   "outputs": [],
   "source": [
    "study = optuna.create_study(\n",
    "    direction=\"minimize\",\n",
    "    sampler=optuna.samplers.TPESampler(seed=42),\n",
    "    pruner=optuna.pruners.MedianPruner(n_warmup_steps=10),\n",
    "    storage = \"sqlite:///linking-writing-process-to-writing-quality.db\",\n",
    "    study_name = \"RandomForest\"\n",
    ")\n",
    "study.optimize(objective, n_trials=20)"
   ]
  }
 ],
 "metadata": {
  "kernelspec": {
   "display_name": "Python 3 (ipykernel)",
   "language": "python",
   "name": "python3"
  },
  "language_info": {
   "codemirror_mode": {
    "name": "ipython",
    "version": 3
   },
   "file_extension": ".py",
   "mimetype": "text/x-python",
   "name": "python",
   "nbconvert_exporter": "python",
   "pygments_lexer": "ipython3",
   "version": "3.11.5"
  }
 },
 "nbformat": 4,
 "nbformat_minor": 4
}
