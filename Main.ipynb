{
 "cells": [
  {
   "cell_type": "code",
   "execution_count": 49,
   "metadata": {
    "collapsed": true,
    "ExecuteTime": {
     "end_time": "2023-10-28T21:01:16.030159Z",
     "start_time": "2023-10-28T21:01:16.024263Z"
    }
   },
   "outputs": [],
   "source": [
    "# importing necessary libraries\n",
    "import numpy as np\n",
    "import pandas as pd\n",
    "import matplotlib.pyplot as plt\n",
    "import os\n",
    "from sklearn.compose import ColumnTransformer\n",
    "from sklearn.base import BaseEstimator,TransformerMixin\n",
    "from sklearn.pipeline import make_pipeline"
   ]
  },
  {
   "cell_type": "code",
   "execution_count": 2,
   "outputs": [],
   "source": [
    "# Directories Where the data is present\n",
    "train_logs_directory = os.path.join(\"Data\",\"train_logs.csv\")\n",
    "train_scores_directory = os.path.join(\"Data\",\"train_scores.csv\")\n",
    "test_logs_directory = os.path.join(\"Data\",\"test_logs.csv\")"
   ],
   "metadata": {
    "collapsed": false,
    "ExecuteTime": {
     "end_time": "2023-10-28T19:36:06.569911Z",
     "start_time": "2023-10-28T19:36:06.561800Z"
    }
   }
  },
  {
   "cell_type": "markdown",
   "source": [
    "# Loading Dataset"
   ],
   "metadata": {
    "collapsed": false
   }
  },
  {
   "cell_type": "code",
   "execution_count": 3,
   "outputs": [],
   "source": [
    "# following the naming convention that everything related\n",
    "# to train will be followed by train_ and everything followed by test will be followed by test_\n",
    "train_logs_df = pd.read_csv(train_logs_directory)\n",
    "test_logs_df = pd.read_csv(test_logs_directory)\n",
    "train_scores_df = pd.read_csv(train_scores_directory)"
   ],
   "metadata": {
    "collapsed": false,
    "ExecuteTime": {
     "end_time": "2023-10-28T19:36:32.388974Z",
     "start_time": "2023-10-28T19:36:28.055083Z"
    }
   }
  },
  {
   "cell_type": "code",
   "execution_count": 9,
   "outputs": [
    {
     "data": {
      "text/plain": "         id  event_id  down_time  up_time  action_time       activity  \\\n0  001519c8         1       4526     4557           31  Nonproduction   \n1  001519c8         2       4558     4962          404  Nonproduction   \n2  001519c8         3     106571   106571            0  Nonproduction   \n3  001519c8         4     106686   106777           91          Input   \n4  001519c8         5     107196   107323          127          Input   \n\n  down_event   up_event text_change  cursor_position  word_count  score  \n0  Leftclick  Leftclick    NoChange                0           0    3.5  \n1  Leftclick  Leftclick    NoChange                0           0    3.5  \n2      Shift      Shift    NoChange                0           0    3.5  \n3          q          q           q                1           1    3.5  \n4          q          q           q                2           1    3.5  ",
      "text/html": "<div>\n<style scoped>\n    .dataframe tbody tr th:only-of-type {\n        vertical-align: middle;\n    }\n\n    .dataframe tbody tr th {\n        vertical-align: top;\n    }\n\n    .dataframe thead th {\n        text-align: right;\n    }\n</style>\n<table border=\"1\" class=\"dataframe\">\n  <thead>\n    <tr style=\"text-align: right;\">\n      <th></th>\n      <th>id</th>\n      <th>event_id</th>\n      <th>down_time</th>\n      <th>up_time</th>\n      <th>action_time</th>\n      <th>activity</th>\n      <th>down_event</th>\n      <th>up_event</th>\n      <th>text_change</th>\n      <th>cursor_position</th>\n      <th>word_count</th>\n      <th>score</th>\n    </tr>\n  </thead>\n  <tbody>\n    <tr>\n      <th>0</th>\n      <td>001519c8</td>\n      <td>1</td>\n      <td>4526</td>\n      <td>4557</td>\n      <td>31</td>\n      <td>Nonproduction</td>\n      <td>Leftclick</td>\n      <td>Leftclick</td>\n      <td>NoChange</td>\n      <td>0</td>\n      <td>0</td>\n      <td>3.5</td>\n    </tr>\n    <tr>\n      <th>1</th>\n      <td>001519c8</td>\n      <td>2</td>\n      <td>4558</td>\n      <td>4962</td>\n      <td>404</td>\n      <td>Nonproduction</td>\n      <td>Leftclick</td>\n      <td>Leftclick</td>\n      <td>NoChange</td>\n      <td>0</td>\n      <td>0</td>\n      <td>3.5</td>\n    </tr>\n    <tr>\n      <th>2</th>\n      <td>001519c8</td>\n      <td>3</td>\n      <td>106571</td>\n      <td>106571</td>\n      <td>0</td>\n      <td>Nonproduction</td>\n      <td>Shift</td>\n      <td>Shift</td>\n      <td>NoChange</td>\n      <td>0</td>\n      <td>0</td>\n      <td>3.5</td>\n    </tr>\n    <tr>\n      <th>3</th>\n      <td>001519c8</td>\n      <td>4</td>\n      <td>106686</td>\n      <td>106777</td>\n      <td>91</td>\n      <td>Input</td>\n      <td>q</td>\n      <td>q</td>\n      <td>q</td>\n      <td>1</td>\n      <td>1</td>\n      <td>3.5</td>\n    </tr>\n    <tr>\n      <th>4</th>\n      <td>001519c8</td>\n      <td>5</td>\n      <td>107196</td>\n      <td>107323</td>\n      <td>127</td>\n      <td>Input</td>\n      <td>q</td>\n      <td>q</td>\n      <td>q</td>\n      <td>2</td>\n      <td>1</td>\n      <td>3.5</td>\n    </tr>\n  </tbody>\n</table>\n</div>"
     },
     "execution_count": 9,
     "metadata": {},
     "output_type": "execute_result"
    }
   ],
   "source": [
    "train_df = pd.merge(train_logs_df,train_scores_df,on = \"id\",how = \"inner\")\n",
    "train_df.head()"
   ],
   "metadata": {
    "collapsed": false,
    "ExecuteTime": {
     "end_time": "2023-10-28T19:46:40.047742Z",
     "start_time": "2023-10-28T19:46:39.440115Z"
    }
   }
  },
  {
   "cell_type": "code",
   "execution_count": null,
   "outputs": [],
   "source": [],
   "metadata": {
    "collapsed": false
   }
  },
  {
   "cell_type": "code",
   "execution_count": null,
   "outputs": [],
   "source": [],
   "metadata": {
    "collapsed": false
   }
  },
  {
   "cell_type": "code",
   "execution_count": null,
   "outputs": [],
   "source": [],
   "metadata": {
    "collapsed": false
   }
  },
  {
   "cell_type": "code",
   "execution_count": null,
   "outputs": [],
   "source": [],
   "metadata": {
    "collapsed": false
   }
  },
  {
   "cell_type": "code",
   "execution_count": null,
   "outputs": [],
   "source": [],
   "metadata": {
    "collapsed": false
   }
  },
  {
   "cell_type": "code",
   "execution_count": null,
   "outputs": [],
   "source": [],
   "metadata": {
    "collapsed": false
   }
  },
  {
   "cell_type": "code",
   "execution_count": null,
   "outputs": [],
   "source": [],
   "metadata": {
    "collapsed": false
   }
  },
  {
   "cell_type": "code",
   "execution_count": null,
   "outputs": [],
   "source": [],
   "metadata": {
    "collapsed": false
   }
  },
  {
   "cell_type": "markdown",
   "source": [
    "# Exploratory Data Analysis"
   ],
   "metadata": {
    "collapsed": false
   }
  },
  {
   "cell_type": "code",
   "execution_count": 13,
   "outputs": [],
   "source": [
    "# No null values are present\n",
    "# train_logs_df.isnull().sum()"
   ],
   "metadata": {
    "collapsed": false,
    "ExecuteTime": {
     "end_time": "2023-10-28T19:48:18.377106Z",
     "start_time": "2023-10-28T19:48:18.366538Z"
    }
   }
  },
  {
   "cell_type": "code",
   "execution_count": 16,
   "outputs": [
    {
     "data": {
      "text/plain": "id                  object\nevent_id             int64\ndown_time            int64\nup_time              int64\naction_time          int64\nactivity            object\ndown_event          object\nup_event            object\ntext_change         object\ncursor_position      int64\nword_count           int64\nscore              float64\ndtype: object"
     },
     "execution_count": 16,
     "metadata": {},
     "output_type": "execute_result"
    }
   ],
   "source": [
    "train_df.dtypes"
   ],
   "metadata": {
    "collapsed": false,
    "ExecuteTime": {
     "end_time": "2023-10-28T19:50:21.327096Z",
     "start_time": "2023-10-28T19:50:21.323964Z"
    }
   }
  },
  {
   "cell_type": "code",
   "execution_count": 17,
   "outputs": [
    {
     "data": {
      "text/plain": "Index(['id', 'event_id', 'down_time', 'up_time', 'action_time', 'activity',\n       'down_event', 'up_event', 'text_change', 'cursor_position',\n       'word_count', 'score'],\n      dtype='object')"
     },
     "execution_count": 17,
     "metadata": {},
     "output_type": "execute_result"
    }
   ],
   "source": [
    "train_df.columns"
   ],
   "metadata": {
    "collapsed": false,
    "ExecuteTime": {
     "end_time": "2023-10-28T19:50:25.573488Z",
     "start_time": "2023-10-28T19:50:25.570052Z"
    }
   }
  },
  {
   "cell_type": "code",
   "execution_count": 18,
   "outputs": [
    {
     "data": {
      "text/plain": "activity\nInput                                     6726796\nRemove/Cut                                 970158\nNonproduction                              703851\nReplace                                      4448\nPaste                                         599\nMove From [1306, 1371] To [1061, 1126]          2\nMove From [13, 65] To [9, 61]                   1\nMove From [274, 314] To [299, 339]              1\nMove From [624, 625] To [845, 846]              1\nMove From [1861, 2063] To [1766, 1968]          1\nMove From [1766, 1968] To [1861, 2063]          1\nMove From [2091, 2179] To [252, 340]            1\nMove From [923, 1077] To [340, 494]             1\nMove From [0, 1] To [590, 591]                  1\nMove From [999, 1000] To [1000, 1001]           1\nMove From [0, 75] To [1, 76]                    1\nMove From [1651, 1769] To [1565, 1683]          1\nMove From [61, 136] To [0, 75]                  1\nMove From [623, 632] To [624, 633]              1\nMove From [75, 134] To [304, 363]               1\nMove From [289, 355] To [562, 628]              1\nMove From [944, 1102] To [1050, 1208]           1\nMove From [1061, 1126] To [1306, 1371]          1\nMove From [1361, 1362] To [1358, 1359]          1\nMove From [51, 86] To [109, 144]                1\nMove From [134, 169] To [122, 157]              1\nMove From [747, 960] To [1041, 1254]            1\nMove From [218, 220] To [206, 208]              1\nMove From [164, 165] To [153, 154]              1\nMove From [1144, 1147] To [1142, 1145]          1\nMove From [284, 292] To [282, 290]              1\nMove From [287, 289] To [285, 287]              1\nMove From [460, 461] To [465, 466]              1\nMove From [905, 1314] To [907, 1316]            1\nMove From [565, 743] To [669, 847]              1\nMove From [669, 847] To [565, 743]              1\nMove From [1041, 1121] To [1496, 1576]          1\nMove From [1455, 1557] To [1323, 1425]          1\nMove From [2268, 2275] To [2247, 2254]          1\nMove From [213, 302] To [902, 991]              1\nMove From [0, 158] To [234, 392]                1\nMove From [460, 465] To [925, 930]              1\nMove From [810, 906] To [816, 912]              1\nMove From [186, 187] To [184, 185]              1\nMove From [140, 272] To [299, 431]              1\nMove From [114, 140] To [272, 298]              1\nMove From [1386, 1450] To [1445, 1509]          1\nMove From [442, 524] To [296, 378]              1\nMove From [408, 414] To [390, 396]              1\nMove From [382, 437] To [458, 513]              1\nName: count, dtype: int64"
     },
     "execution_count": 18,
     "metadata": {},
     "output_type": "execute_result"
    }
   ],
   "source": [
    "# Highly skewed dataset\n",
    "train_df[\"activity\"].value_counts()"
   ],
   "metadata": {
    "collapsed": false,
    "ExecuteTime": {
     "end_time": "2023-10-28T19:50:29.745888Z",
     "start_time": "2023-10-28T19:50:29.473057Z"
    }
   }
  },
  {
   "cell_type": "code",
   "execution_count": 19,
   "outputs": [
    {
     "data": {
      "text/plain": "0          Nonproduction\n1          Nonproduction\n2          Nonproduction\n3                  Input\n4                  Input\n               ...      \n8405893    Nonproduction\n8405894    Nonproduction\n8405895          Replace\n8405896    Nonproduction\n8405897            Input\nName: activity, Length: 8405898, dtype: object"
     },
     "execution_count": 19,
     "metadata": {},
     "output_type": "execute_result"
    }
   ],
   "source": [
    "train_df[\"activity\"]"
   ],
   "metadata": {
    "collapsed": false,
    "ExecuteTime": {
     "end_time": "2023-10-28T19:50:40.589432Z",
     "start_time": "2023-10-28T19:50:40.578885Z"
    }
   }
  },
  {
   "cell_type": "code",
   "execution_count": 20,
   "outputs": [
    {
     "data": {
      "text/plain": "         id  event_id  down_time  up_time  action_time       activity  \\\n0  001519c8         1       4526     4557           31  Nonproduction   \n1  001519c8         2       4558     4962          404  Nonproduction   \n2  001519c8         3     106571   106571            0  Nonproduction   \n3  001519c8         4     106686   106777           91          Input   \n4  001519c8         5     107196   107323          127          Input   \n\n  down_event   up_event text_change  cursor_position  word_count  score  \n0  Leftclick  Leftclick    NoChange                0           0    3.5  \n1  Leftclick  Leftclick    NoChange                0           0    3.5  \n2      Shift      Shift    NoChange                0           0    3.5  \n3          q          q           q                1           1    3.5  \n4          q          q           q                2           1    3.5  ",
      "text/html": "<div>\n<style scoped>\n    .dataframe tbody tr th:only-of-type {\n        vertical-align: middle;\n    }\n\n    .dataframe tbody tr th {\n        vertical-align: top;\n    }\n\n    .dataframe thead th {\n        text-align: right;\n    }\n</style>\n<table border=\"1\" class=\"dataframe\">\n  <thead>\n    <tr style=\"text-align: right;\">\n      <th></th>\n      <th>id</th>\n      <th>event_id</th>\n      <th>down_time</th>\n      <th>up_time</th>\n      <th>action_time</th>\n      <th>activity</th>\n      <th>down_event</th>\n      <th>up_event</th>\n      <th>text_change</th>\n      <th>cursor_position</th>\n      <th>word_count</th>\n      <th>score</th>\n    </tr>\n  </thead>\n  <tbody>\n    <tr>\n      <th>0</th>\n      <td>001519c8</td>\n      <td>1</td>\n      <td>4526</td>\n      <td>4557</td>\n      <td>31</td>\n      <td>Nonproduction</td>\n      <td>Leftclick</td>\n      <td>Leftclick</td>\n      <td>NoChange</td>\n      <td>0</td>\n      <td>0</td>\n      <td>3.5</td>\n    </tr>\n    <tr>\n      <th>1</th>\n      <td>001519c8</td>\n      <td>2</td>\n      <td>4558</td>\n      <td>4962</td>\n      <td>404</td>\n      <td>Nonproduction</td>\n      <td>Leftclick</td>\n      <td>Leftclick</td>\n      <td>NoChange</td>\n      <td>0</td>\n      <td>0</td>\n      <td>3.5</td>\n    </tr>\n    <tr>\n      <th>2</th>\n      <td>001519c8</td>\n      <td>3</td>\n      <td>106571</td>\n      <td>106571</td>\n      <td>0</td>\n      <td>Nonproduction</td>\n      <td>Shift</td>\n      <td>Shift</td>\n      <td>NoChange</td>\n      <td>0</td>\n      <td>0</td>\n      <td>3.5</td>\n    </tr>\n    <tr>\n      <th>3</th>\n      <td>001519c8</td>\n      <td>4</td>\n      <td>106686</td>\n      <td>106777</td>\n      <td>91</td>\n      <td>Input</td>\n      <td>q</td>\n      <td>q</td>\n      <td>q</td>\n      <td>1</td>\n      <td>1</td>\n      <td>3.5</td>\n    </tr>\n    <tr>\n      <th>4</th>\n      <td>001519c8</td>\n      <td>5</td>\n      <td>107196</td>\n      <td>107323</td>\n      <td>127</td>\n      <td>Input</td>\n      <td>q</td>\n      <td>q</td>\n      <td>q</td>\n      <td>2</td>\n      <td>1</td>\n      <td>3.5</td>\n    </tr>\n  </tbody>\n</table>\n</div>"
     },
     "execution_count": 20,
     "metadata": {},
     "output_type": "execute_result"
    }
   ],
   "source": [
    "train_df.head()"
   ],
   "metadata": {
    "collapsed": false,
    "ExecuteTime": {
     "end_time": "2023-10-28T19:52:11.720117Z",
     "start_time": "2023-10-28T19:52:11.717219Z"
    }
   }
  },
  {
   "cell_type": "code",
   "execution_count": 26,
   "outputs": [
    {
     "data": {
      "text/plain": "array(['Nonproduction', 'Input', 'Remove/Cut', 'Replace',\n       'Move From [284, 292] To [282, 290]',\n       'Move From [287, 289] To [285, 287]',\n       'Move From [460, 461] To [465, 466]', 'Paste',\n       'Move From [905, 1314] To [907, 1316]',\n       'Move From [565, 743] To [669, 847]',\n       'Move From [669, 847] To [565, 743]',\n       'Move From [1041, 1121] To [1496, 1576]',\n       'Move From [1455, 1557] To [1323, 1425]',\n       'Move From [2268, 2275] To [2247, 2254]',\n       'Move From [213, 302] To [902, 991]',\n       'Move From [0, 158] To [234, 392]',\n       'Move From [460, 465] To [925, 930]',\n       'Move From [810, 906] To [816, 912]',\n       'Move From [186, 187] To [184, 185]',\n       'Move From [140, 272] To [299, 431]',\n       'Move From [114, 140] To [272, 298]',\n       'Move From [1386, 1450] To [1445, 1509]',\n       'Move From [442, 524] To [296, 378]',\n       'Move From [408, 414] To [390, 396]',\n       'Move From [1144, 1147] To [1142, 1145]',\n       'Move From [218, 220] To [206, 208]',\n       'Move From [164, 165] To [153, 154]',\n       'Move From [623, 632] To [624, 633]',\n       'Move From [747, 960] To [1041, 1254]',\n       'Move From [274, 314] To [299, 339]',\n       'Move From [624, 625] To [845, 846]',\n       'Move From [1861, 2063] To [1766, 1968]',\n       'Move From [1766, 1968] To [1861, 2063]',\n       'Move From [2091, 2179] To [252, 340]',\n       'Move From [923, 1077] To [340, 494]',\n       'Move From [0, 1] To [590, 591]',\n       'Move From [999, 1000] To [1000, 1001]',\n       'Move From [13, 65] To [9, 61]',\n       'Move From [1651, 1769] To [1565, 1683]',\n       'Move From [61, 136] To [0, 75]', 'Move From [0, 75] To [1, 76]',\n       'Move From [75, 134] To [304, 363]',\n       'Move From [289, 355] To [562, 628]',\n       'Move From [944, 1102] To [1050, 1208]',\n       'Move From [1306, 1371] To [1061, 1126]',\n       'Move From [1061, 1126] To [1306, 1371]',\n       'Move From [1361, 1362] To [1358, 1359]',\n       'Move From [51, 86] To [109, 144]',\n       'Move From [134, 169] To [122, 157]',\n       'Move From [382, 437] To [458, 513]'], dtype=object)"
     },
     "execution_count": 26,
     "metadata": {},
     "output_type": "execute_result"
    }
   ],
   "source": [
    "train_df[\"activity\"].unique()"
   ],
   "metadata": {
    "collapsed": false,
    "ExecuteTime": {
     "end_time": "2023-10-28T20:04:33.328303Z",
     "start_time": "2023-10-28T20:04:33.137515Z"
    }
   }
  },
  {
   "cell_type": "code",
   "execution_count": 24,
   "outputs": [
    {
     "data": {
      "text/plain": "array(['Leftclick', 'Shift', 'q', 'Space', 'Backspace', '.', ',', 'Enter',\n       'ArrowLeft', \"'\", ';', 'ArrowRight', '-', '?', 'Tab', '\"',\n       'ArrowUp', 'ArrowDown', 'm', 'Rightclick', 'i', 'o', 't', '=', 'a',\n       'CapsLock', 'Control', 'c', 'v', '/', 'Delete', ':', 'z', '[', '$',\n       '(', ')', '+', 'Home', 'End', '\\\\', 'Meta', '*', '&',\n       'AudioVolumeMute', 'x', '!', 'Insert', 'MediaPlayPause', 'w',\n       'NumLock', '%', 'V', 'b', '>', 'Alt', 'AudioVolumeUp',\n       'ContextMenu', 'AudioVolumeDown', 'n', 'e', '<', 'PageDown', ']',\n       'Middleclick', '@', 'F12', 'u', 'j', 's', '\\x96', 'Dead', 'y', '{',\n       'ScrollLock', '¿', 'p', 'Process', '}', 'MediaTrackPrevious',\n       'MediaTrackNext', 'F3', '^', 'Unidentified', 'Cancel', 'h', '2',\n       'd', 'r', '`', '\\x9b', 'f', 'g', '#', '~', 'PageUp', 'l', 'T', 'A',\n       'S', 'ModeChange', '_', 'Escape', 'F11', 'Unknownclick',\n       'AltGraph', 'F10', 'F15', 'Clear', 'OS', 'C', 'Ä±', 'M', '|',\n       'â\\x80\\x93', '0', '1', '5', '\\x97', 'Ë\\x86', '¡', '\\x80', 'Â´',\n       'Å\\x9f', 'F2', 'ä', 'F1', 'k', 'Pause', 'F6'], dtype=object)"
     },
     "execution_count": 24,
     "metadata": {},
     "output_type": "execute_result"
    }
   ],
   "source": [
    "train_df[\"up_event\"].unique()"
   ],
   "metadata": {
    "collapsed": false,
    "ExecuteTime": {
     "end_time": "2023-10-28T19:52:57.499713Z",
     "start_time": "2023-10-28T19:52:57.425010Z"
    }
   }
  },
  {
   "cell_type": "code",
   "execution_count": null,
   "outputs": [],
   "source": [],
   "metadata": {
    "collapsed": false
   }
  },
  {
   "cell_type": "code",
   "execution_count": null,
   "outputs": [],
   "source": [],
   "metadata": {
    "collapsed": false
   }
  },
  {
   "cell_type": "code",
   "execution_count": null,
   "outputs": [],
   "source": [],
   "metadata": {
    "collapsed": false
   }
  },
  {
   "cell_type": "code",
   "execution_count": null,
   "outputs": [],
   "source": [],
   "metadata": {
    "collapsed": false
   }
  },
  {
   "cell_type": "code",
   "execution_count": null,
   "outputs": [],
   "source": [],
   "metadata": {
    "collapsed": false
   }
  },
  {
   "cell_type": "code",
   "execution_count": null,
   "outputs": [],
   "source": [],
   "metadata": {
    "collapsed": false
   }
  },
  {
   "cell_type": "code",
   "execution_count": null,
   "outputs": [],
   "source": [],
   "metadata": {
    "collapsed": false
   }
  },
  {
   "cell_type": "code",
   "execution_count": null,
   "outputs": [],
   "source": [],
   "metadata": {
    "collapsed": false
   }
  },
  {
   "cell_type": "code",
   "execution_count": null,
   "outputs": [],
   "source": [],
   "metadata": {
    "collapsed": false
   }
  },
  {
   "cell_type": "code",
   "execution_count": 11,
   "outputs": [],
   "source": [],
   "metadata": {
    "collapsed": false,
    "ExecuteTime": {
     "end_time": "2023-10-28T19:47:48.525623Z",
     "start_time": "2023-10-28T19:47:48.518842Z"
    }
   }
  },
  {
   "cell_type": "markdown",
   "source": [
    "# Data Filteration"
   ],
   "metadata": {
    "collapsed": false
   }
  },
  {
   "cell_type": "code",
   "execution_count": 32,
   "outputs": [
    {
     "data": {
      "text/plain": "12876"
     },
     "execution_count": 32,
     "metadata": {},
     "output_type": "execute_result"
    }
   ],
   "source": [
    "max(train_df.event_id)"
   ],
   "metadata": {
    "collapsed": false,
    "ExecuteTime": {
     "end_time": "2023-10-28T20:16:13.393893Z",
     "start_time": "2023-10-28T20:16:13.388168Z"
    }
   }
  },
  {
   "cell_type": "code",
   "execution_count": 31,
   "outputs": [
    {
     "data": {
      "text/plain": "0          001519c8\n1          001519c8\n2          001519c8\n3          001519c8\n4          001519c8\n             ...   \n8405893    fff05981\n8405894    fff05981\n8405895    fff05981\n8405896    fff05981\n8405897    fff05981\nName: id, Length: 8405898, dtype: object"
     },
     "execution_count": 31,
     "metadata": {},
     "output_type": "execute_result"
    }
   ],
   "source": [
    "train_df.id"
   ],
   "metadata": {
    "collapsed": false,
    "ExecuteTime": {
     "end_time": "2023-10-28T20:13:29.751550Z",
     "start_time": "2023-10-28T20:13:29.738566Z"
    }
   }
  },
  {
   "cell_type": "code",
   "execution_count": 28,
   "outputs": [
    {
     "data": {
      "text/plain": "Index(['id', 'event_id', 'down_time', 'up_time', 'action_time', 'activity',\n       'down_event', 'up_event', 'text_change', 'cursor_position',\n       'word_count', 'score'],\n      dtype='object')"
     },
     "execution_count": 28,
     "metadata": {},
     "output_type": "execute_result"
    }
   ],
   "source": [
    "train_df.columns # id_event_id -> id * 100000 + event_id"
   ],
   "metadata": {
    "collapsed": false,
    "ExecuteTime": {
     "end_time": "2023-10-28T20:09:49.497489Z",
     "start_time": "2023-10-28T20:09:49.490989Z"
    }
   }
  },
  {
   "cell_type": "code",
   "execution_count": 40,
   "outputs": [],
   "source": [
    "# Splitting the dataset between the categorical and numerical values\n",
    "num_attributes = [\"id\",\"event_id\",\"down_time\",\"up_time\",\"action_time\",\"cursor_position\",\"word_count\"]\n",
    "cat_attributes = [\"activity\",\"down_event\",\"up_event\",\"text_change\"]\n"
   ],
   "metadata": {
    "collapsed": false,
    "ExecuteTime": {
     "end_time": "2023-10-28T20:58:25.857348Z",
     "start_time": "2023-10-28T20:58:25.855146Z"
    }
   }
  },
  {
   "cell_type": "code",
   "execution_count": 41,
   "outputs": [],
   "source": [
    "num_pipeline = ()\n",
    "cat_pipeline = ()"
   ],
   "metadata": {
    "collapsed": false,
    "ExecuteTime": {
     "end_time": "2023-10-28T20:58:28.992021Z",
     "start_time": "2023-10-28T20:58:28.990334Z"
    }
   }
  },
  {
   "cell_type": "code",
   "execution_count": 72,
   "outputs": [],
   "source": [
    "class Reduce(BaseEstimator,TransformerMixin):\n",
    "    def __init__(self):\n",
    "        pass\n",
    "    \n",
    "    def fit(self,X,y=None):\n",
    "        \"\"\"Remove the id column\"\"\"\n",
    "        self.remove_column = \"id\"\n",
    "        return self\n",
    "    \n",
    "    def transform(self,X):\n",
    "        print(\"X before entering \", X.columns)\n",
    "        if self.remove_column in X.columns:\n",
    "            X = X.drop(columns = self.remove_column)\n",
    "        print(\"X after \", X.shape)\n",
    "        return X\n",
    "        "
   ],
   "metadata": {
    "collapsed": false,
    "ExecuteTime": {
     "end_time": "2023-10-28T21:17:04.532190Z",
     "start_time": "2023-10-28T21:17:04.530396Z"
    }
   }
  },
  {
   "cell_type": "code",
   "execution_count": 73,
   "outputs": [],
   "source": [
    "temp = make_pipeline(Reduce())"
   ],
   "metadata": {
    "collapsed": false,
    "ExecuteTime": {
     "end_time": "2023-10-28T21:17:04.538664Z",
     "start_time": "2023-10-28T21:17:04.533131Z"
    }
   }
  },
  {
   "cell_type": "code",
   "execution_count": 74,
   "outputs": [
    {
     "name": "stdout",
     "output_type": "stream",
     "text": [
      "X before entering  Index(['id', 'event_id', 'down_time', 'up_time', 'action_time', 'activity',\n",
      "       'down_event', 'up_event', 'text_change', 'cursor_position',\n",
      "       'word_count', 'score'],\n",
      "      dtype='object')\n",
      "X after  (8405898, 11)\n"
     ]
    },
    {
     "data": {
      "text/plain": "         event_id  down_time  up_time  action_time       activity down_event  \\\n0               1       4526     4557           31  Nonproduction  Leftclick   \n1               2       4558     4962          404  Nonproduction  Leftclick   \n2               3     106571   106571            0  Nonproduction      Shift   \n3               4     106686   106777           91          Input          q   \n4               5     107196   107323          127          Input          q   \n...           ...        ...      ...          ...            ...        ...   \n8405893      3615    2063944  2064440          496  Nonproduction  Leftclick   \n8405894      3616    2064497  2064497            0  Nonproduction      Shift   \n8405895      3617    2064657  2064765          108        Replace          q   \n8405896      3618    2069186  2069259           73  Nonproduction  Leftclick   \n8405897      3619    2070065  2070133           68          Input          .   \n\n          up_event text_change  cursor_position  word_count  score  \n0        Leftclick    NoChange                0           0    3.5  \n1        Leftclick    NoChange                0           0    3.5  \n2            Shift    NoChange                0           0    3.5  \n3                q           q                1           1    3.5  \n4                q           q                2           1    3.5  \n...            ...         ...              ...         ...    ...  \n8405893  Leftclick    NoChange             1031         240    4.0  \n8405894      Shift    NoChange             1031         240    4.0  \n8405895          q      q => q             1031         240    4.0  \n8405896  Leftclick    NoChange             1028         240    4.0  \n8405897          .           .             1029         240    4.0  \n\n[8405898 rows x 11 columns]",
      "text/html": "<div>\n<style scoped>\n    .dataframe tbody tr th:only-of-type {\n        vertical-align: middle;\n    }\n\n    .dataframe tbody tr th {\n        vertical-align: top;\n    }\n\n    .dataframe thead th {\n        text-align: right;\n    }\n</style>\n<table border=\"1\" class=\"dataframe\">\n  <thead>\n    <tr style=\"text-align: right;\">\n      <th></th>\n      <th>event_id</th>\n      <th>down_time</th>\n      <th>up_time</th>\n      <th>action_time</th>\n      <th>activity</th>\n      <th>down_event</th>\n      <th>up_event</th>\n      <th>text_change</th>\n      <th>cursor_position</th>\n      <th>word_count</th>\n      <th>score</th>\n    </tr>\n  </thead>\n  <tbody>\n    <tr>\n      <th>0</th>\n      <td>1</td>\n      <td>4526</td>\n      <td>4557</td>\n      <td>31</td>\n      <td>Nonproduction</td>\n      <td>Leftclick</td>\n      <td>Leftclick</td>\n      <td>NoChange</td>\n      <td>0</td>\n      <td>0</td>\n      <td>3.5</td>\n    </tr>\n    <tr>\n      <th>1</th>\n      <td>2</td>\n      <td>4558</td>\n      <td>4962</td>\n      <td>404</td>\n      <td>Nonproduction</td>\n      <td>Leftclick</td>\n      <td>Leftclick</td>\n      <td>NoChange</td>\n      <td>0</td>\n      <td>0</td>\n      <td>3.5</td>\n    </tr>\n    <tr>\n      <th>2</th>\n      <td>3</td>\n      <td>106571</td>\n      <td>106571</td>\n      <td>0</td>\n      <td>Nonproduction</td>\n      <td>Shift</td>\n      <td>Shift</td>\n      <td>NoChange</td>\n      <td>0</td>\n      <td>0</td>\n      <td>3.5</td>\n    </tr>\n    <tr>\n      <th>3</th>\n      <td>4</td>\n      <td>106686</td>\n      <td>106777</td>\n      <td>91</td>\n      <td>Input</td>\n      <td>q</td>\n      <td>q</td>\n      <td>q</td>\n      <td>1</td>\n      <td>1</td>\n      <td>3.5</td>\n    </tr>\n    <tr>\n      <th>4</th>\n      <td>5</td>\n      <td>107196</td>\n      <td>107323</td>\n      <td>127</td>\n      <td>Input</td>\n      <td>q</td>\n      <td>q</td>\n      <td>q</td>\n      <td>2</td>\n      <td>1</td>\n      <td>3.5</td>\n    </tr>\n    <tr>\n      <th>...</th>\n      <td>...</td>\n      <td>...</td>\n      <td>...</td>\n      <td>...</td>\n      <td>...</td>\n      <td>...</td>\n      <td>...</td>\n      <td>...</td>\n      <td>...</td>\n      <td>...</td>\n      <td>...</td>\n    </tr>\n    <tr>\n      <th>8405893</th>\n      <td>3615</td>\n      <td>2063944</td>\n      <td>2064440</td>\n      <td>496</td>\n      <td>Nonproduction</td>\n      <td>Leftclick</td>\n      <td>Leftclick</td>\n      <td>NoChange</td>\n      <td>1031</td>\n      <td>240</td>\n      <td>4.0</td>\n    </tr>\n    <tr>\n      <th>8405894</th>\n      <td>3616</td>\n      <td>2064497</td>\n      <td>2064497</td>\n      <td>0</td>\n      <td>Nonproduction</td>\n      <td>Shift</td>\n      <td>Shift</td>\n      <td>NoChange</td>\n      <td>1031</td>\n      <td>240</td>\n      <td>4.0</td>\n    </tr>\n    <tr>\n      <th>8405895</th>\n      <td>3617</td>\n      <td>2064657</td>\n      <td>2064765</td>\n      <td>108</td>\n      <td>Replace</td>\n      <td>q</td>\n      <td>q</td>\n      <td>q =&gt; q</td>\n      <td>1031</td>\n      <td>240</td>\n      <td>4.0</td>\n    </tr>\n    <tr>\n      <th>8405896</th>\n      <td>3618</td>\n      <td>2069186</td>\n      <td>2069259</td>\n      <td>73</td>\n      <td>Nonproduction</td>\n      <td>Leftclick</td>\n      <td>Leftclick</td>\n      <td>NoChange</td>\n      <td>1028</td>\n      <td>240</td>\n      <td>4.0</td>\n    </tr>\n    <tr>\n      <th>8405897</th>\n      <td>3619</td>\n      <td>2070065</td>\n      <td>2070133</td>\n      <td>68</td>\n      <td>Input</td>\n      <td>.</td>\n      <td>.</td>\n      <td>.</td>\n      <td>1029</td>\n      <td>240</td>\n      <td>4.0</td>\n    </tr>\n  </tbody>\n</table>\n<p>8405898 rows × 11 columns</p>\n</div>"
     },
     "execution_count": 74,
     "metadata": {},
     "output_type": "execute_result"
    }
   ],
   "source": [
    "temp.fit_transform(train_df)"
   ],
   "metadata": {
    "collapsed": false,
    "ExecuteTime": {
     "end_time": "2023-10-28T21:17:08.219920Z",
     "start_time": "2023-10-28T21:17:07.637941Z"
    }
   }
  },
  {
   "cell_type": "code",
   "execution_count": 77,
   "outputs": [],
   "source": [
    "processing = ColumnTransformer([\n",
    "    (\"Remove id\",make_pipeline(Reduce()), num_attributes)\n",
    "])"
   ],
   "metadata": {
    "collapsed": false,
    "ExecuteTime": {
     "end_time": "2023-10-28T21:18:10.377603Z",
     "start_time": "2023-10-28T21:18:10.375909Z"
    }
   }
  },
  {
   "cell_type": "code",
   "execution_count": 78,
   "outputs": [
    {
     "name": "stdout",
     "output_type": "stream",
     "text": [
      "X before entering  Index(['id', 'event_id', 'down_time', 'up_time', 'action_time',\n",
      "       'cursor_position', 'word_count'],\n",
      "      dtype='object')\n",
      "X after  (8405898, 6)\n"
     ]
    },
    {
     "data": {
      "text/plain": "array([[      1,    4526,    4557,      31,       0,       0],\n       [      2,    4558,    4962,     404,       0,       0],\n       [      3,  106571,  106571,       0,       0,       0],\n       ...,\n       [   3617, 2064657, 2064765,     108,    1031,     240],\n       [   3618, 2069186, 2069259,      73,    1028,     240],\n       [   3619, 2070065, 2070133,      68,    1029,     240]])"
     },
     "execution_count": 78,
     "metadata": {},
     "output_type": "execute_result"
    }
   ],
   "source": [
    "processing.fit_transform(train_df)"
   ],
   "metadata": {
    "collapsed": false,
    "ExecuteTime": {
     "end_time": "2023-10-28T21:18:10.780624Z",
     "start_time": "2023-10-28T21:18:10.380027Z"
    }
   }
  },
  {
   "cell_type": "code",
   "execution_count": null,
   "outputs": [],
   "source": [
    "train_df = train_df.drop(\"id\")"
   ],
   "metadata": {
    "collapsed": false
   }
  },
  {
   "cell_type": "code",
   "execution_count": null,
   "outputs": [],
   "source": [],
   "metadata": {
    "collapsed": false
   }
  },
  {
   "cell_type": "code",
   "execution_count": 33,
   "outputs": [
    {
     "data": {
      "text/plain": "id                  object\nevent_id             int64\ndown_time            int64\nup_time              int64\naction_time          int64\nactivity            object\ndown_event          object\nup_event            object\ntext_change         object\ncursor_position      int64\nword_count           int64\nscore              float64\ndtype: object"
     },
     "execution_count": 33,
     "metadata": {},
     "output_type": "execute_result"
    }
   ],
   "source": [
    "train_df.dtypes"
   ],
   "metadata": {
    "collapsed": false,
    "ExecuteTime": {
     "end_time": "2023-10-28T20:27:34.334690Z",
     "start_time": "2023-10-28T20:27:34.331350Z"
    }
   }
  },
  {
   "cell_type": "code",
   "execution_count": null,
   "outputs": [],
   "source": [],
   "metadata": {
    "collapsed": false
   }
  }
 ],
 "metadata": {
  "kernelspec": {
   "display_name": "Python 3",
   "language": "python",
   "name": "python3"
  },
  "language_info": {
   "codemirror_mode": {
    "name": "ipython",
    "version": 2
   },
   "file_extension": ".py",
   "mimetype": "text/x-python",
   "name": "python",
   "nbconvert_exporter": "python",
   "pygments_lexer": "ipython2",
   "version": "2.7.6"
  }
 },
 "nbformat": 4,
 "nbformat_minor": 0
}
