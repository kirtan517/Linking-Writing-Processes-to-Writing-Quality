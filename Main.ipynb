{
 "cells": [
  {
   "cell_type": "code",
   "execution_count": 5,
   "metadata": {
    "collapsed": true,
    "ExecuteTime": {
     "end_time": "2023-10-29T06:29:04.766106Z",
     "start_time": "2023-10-29T06:29:03.825208Z"
    }
   },
   "outputs": [],
   "source": [
    "# importing necessary libraries\n",
    "import numpy as np\n",
    "import pandas as pd\n",
    "import matplotlib.pyplot as plt\n",
    "import os\n",
    "from sklearn.compose import ColumnTransformer\n",
    "from sklearn.base import BaseEstimator,TransformerMixin\n",
    "from sklearn.pipeline import make_pipeline\n",
    "from sklearn.preprocessing import OneHotEncoder"
   ]
  },
  {
   "cell_type": "code",
   "execution_count": 6,
   "outputs": [],
   "source": [
    "# Directories Where the data is present\n",
    "train_logs_directory = os.path.join(\"Data\",\"train_logs.csv\")\n",
    "train_scores_directory = os.path.join(\"Data\",\"train_scores.csv\")\n",
    "test_logs_directory = os.path.join(\"Data\",\"test_logs.csv\")"
   ],
   "metadata": {
    "collapsed": false,
    "ExecuteTime": {
     "end_time": "2023-10-29T06:29:04.766405Z",
     "start_time": "2023-10-29T06:29:04.763548Z"
    }
   }
  },
  {
   "cell_type": "markdown",
   "source": [
    "# Loading Dataset"
   ],
   "metadata": {
    "collapsed": false
   }
  },
  {
   "cell_type": "code",
   "execution_count": 7,
   "outputs": [],
   "source": [
    "# following the naming convention that everything related\n",
    "# to train will be followed by train_ and everything followed by test will be followed by test_\n",
    "train_logs_df = pd.read_csv(train_logs_directory)\n",
    "test_logs_df = pd.read_csv(test_logs_directory)\n",
    "train_scores_df = pd.read_csv(train_scores_directory)"
   ],
   "metadata": {
    "collapsed": false,
    "ExecuteTime": {
     "end_time": "2023-10-29T06:29:08.313502Z",
     "start_time": "2023-10-29T06:29:04.766318Z"
    }
   }
  },
  {
   "cell_type": "code",
   "execution_count": 8,
   "outputs": [
    {
     "data": {
      "text/plain": "         id  event_id  down_time  up_time  action_time       activity  \\\n0  001519c8         1       4526     4557           31  Nonproduction   \n1  001519c8         2       4558     4962          404  Nonproduction   \n2  001519c8         3     106571   106571            0  Nonproduction   \n3  001519c8         4     106686   106777           91          Input   \n4  001519c8         5     107196   107323          127          Input   \n\n  down_event   up_event text_change  cursor_position  word_count  score  \n0  Leftclick  Leftclick    NoChange                0           0    3.5  \n1  Leftclick  Leftclick    NoChange                0           0    3.5  \n2      Shift      Shift    NoChange                0           0    3.5  \n3          q          q           q                1           1    3.5  \n4          q          q           q                2           1    3.5  ",
      "text/html": "<div>\n<style scoped>\n    .dataframe tbody tr th:only-of-type {\n        vertical-align: middle;\n    }\n\n    .dataframe tbody tr th {\n        vertical-align: top;\n    }\n\n    .dataframe thead th {\n        text-align: right;\n    }\n</style>\n<table border=\"1\" class=\"dataframe\">\n  <thead>\n    <tr style=\"text-align: right;\">\n      <th></th>\n      <th>id</th>\n      <th>event_id</th>\n      <th>down_time</th>\n      <th>up_time</th>\n      <th>action_time</th>\n      <th>activity</th>\n      <th>down_event</th>\n      <th>up_event</th>\n      <th>text_change</th>\n      <th>cursor_position</th>\n      <th>word_count</th>\n      <th>score</th>\n    </tr>\n  </thead>\n  <tbody>\n    <tr>\n      <th>0</th>\n      <td>001519c8</td>\n      <td>1</td>\n      <td>4526</td>\n      <td>4557</td>\n      <td>31</td>\n      <td>Nonproduction</td>\n      <td>Leftclick</td>\n      <td>Leftclick</td>\n      <td>NoChange</td>\n      <td>0</td>\n      <td>0</td>\n      <td>3.5</td>\n    </tr>\n    <tr>\n      <th>1</th>\n      <td>001519c8</td>\n      <td>2</td>\n      <td>4558</td>\n      <td>4962</td>\n      <td>404</td>\n      <td>Nonproduction</td>\n      <td>Leftclick</td>\n      <td>Leftclick</td>\n      <td>NoChange</td>\n      <td>0</td>\n      <td>0</td>\n      <td>3.5</td>\n    </tr>\n    <tr>\n      <th>2</th>\n      <td>001519c8</td>\n      <td>3</td>\n      <td>106571</td>\n      <td>106571</td>\n      <td>0</td>\n      <td>Nonproduction</td>\n      <td>Shift</td>\n      <td>Shift</td>\n      <td>NoChange</td>\n      <td>0</td>\n      <td>0</td>\n      <td>3.5</td>\n    </tr>\n    <tr>\n      <th>3</th>\n      <td>001519c8</td>\n      <td>4</td>\n      <td>106686</td>\n      <td>106777</td>\n      <td>91</td>\n      <td>Input</td>\n      <td>q</td>\n      <td>q</td>\n      <td>q</td>\n      <td>1</td>\n      <td>1</td>\n      <td>3.5</td>\n    </tr>\n    <tr>\n      <th>4</th>\n      <td>001519c8</td>\n      <td>5</td>\n      <td>107196</td>\n      <td>107323</td>\n      <td>127</td>\n      <td>Input</td>\n      <td>q</td>\n      <td>q</td>\n      <td>q</td>\n      <td>2</td>\n      <td>1</td>\n      <td>3.5</td>\n    </tr>\n  </tbody>\n</table>\n</div>"
     },
     "execution_count": 8,
     "metadata": {},
     "output_type": "execute_result"
    }
   ],
   "source": [
    "train_df = pd.merge(train_logs_df,train_scores_df,on = \"id\",how = \"inner\")\n",
    "train_df.head()"
   ],
   "metadata": {
    "collapsed": false,
    "ExecuteTime": {
     "end_time": "2023-10-29T06:29:08.883664Z",
     "start_time": "2023-10-29T06:29:08.506873Z"
    }
   }
  },
  {
   "cell_type": "markdown",
   "source": [
    "# Exploratory Data Analysis"
   ],
   "metadata": {
    "collapsed": false
   }
  },
  {
   "cell_type": "code",
   "execution_count": 9,
   "outputs": [],
   "source": [
    "# No null values are present\n",
    "# train_logs_df.isnull().sum()"
   ],
   "metadata": {
    "collapsed": false,
    "ExecuteTime": {
     "end_time": "2023-10-29T06:29:08.883858Z",
     "start_time": "2023-10-29T06:29:08.878967Z"
    }
   }
  },
  {
   "cell_type": "code",
   "execution_count": 10,
   "outputs": [
    {
     "data": {
      "text/plain": "id                  object\nevent_id             int64\ndown_time            int64\nup_time              int64\naction_time          int64\nactivity            object\ndown_event          object\nup_event            object\ntext_change         object\ncursor_position      int64\nword_count           int64\nscore              float64\ndtype: object"
     },
     "execution_count": 10,
     "metadata": {},
     "output_type": "execute_result"
    }
   ],
   "source": [
    "train_df.dtypes"
   ],
   "metadata": {
    "collapsed": false,
    "ExecuteTime": {
     "end_time": "2023-10-29T06:29:08.885483Z",
     "start_time": "2023-10-29T06:29:08.882284Z"
    }
   }
  },
  {
   "cell_type": "code",
   "execution_count": 11,
   "outputs": [
    {
     "data": {
      "text/plain": "Index(['id', 'event_id', 'down_time', 'up_time', 'action_time', 'activity',\n       'down_event', 'up_event', 'text_change', 'cursor_position',\n       'word_count', 'score'],\n      dtype='object')"
     },
     "execution_count": 11,
     "metadata": {},
     "output_type": "execute_result"
    }
   ],
   "source": [
    "train_df.columns"
   ],
   "metadata": {
    "collapsed": false,
    "ExecuteTime": {
     "end_time": "2023-10-29T06:29:08.892414Z",
     "start_time": "2023-10-29T06:29:08.885217Z"
    }
   }
  },
  {
   "cell_type": "code",
   "execution_count": 12,
   "outputs": [
    {
     "data": {
      "text/plain": "activity\nInput                                     6726796\nRemove/Cut                                 970158\nNonproduction                              703851\nReplace                                      4448\nPaste                                         599\nMove From [1306, 1371] To [1061, 1126]          2\nMove From [13, 65] To [9, 61]                   1\nMove From [274, 314] To [299, 339]              1\nMove From [624, 625] To [845, 846]              1\nMove From [1861, 2063] To [1766, 1968]          1\nMove From [1766, 1968] To [1861, 2063]          1\nMove From [2091, 2179] To [252, 340]            1\nMove From [923, 1077] To [340, 494]             1\nMove From [0, 1] To [590, 591]                  1\nMove From [999, 1000] To [1000, 1001]           1\nMove From [0, 75] To [1, 76]                    1\nMove From [1651, 1769] To [1565, 1683]          1\nMove From [61, 136] To [0, 75]                  1\nMove From [623, 632] To [624, 633]              1\nMove From [75, 134] To [304, 363]               1\nMove From [289, 355] To [562, 628]              1\nMove From [944, 1102] To [1050, 1208]           1\nMove From [1061, 1126] To [1306, 1371]          1\nMove From [1361, 1362] To [1358, 1359]          1\nMove From [51, 86] To [109, 144]                1\nMove From [134, 169] To [122, 157]              1\nMove From [747, 960] To [1041, 1254]            1\nMove From [218, 220] To [206, 208]              1\nMove From [164, 165] To [153, 154]              1\nMove From [1144, 1147] To [1142, 1145]          1\nMove From [284, 292] To [282, 290]              1\nMove From [287, 289] To [285, 287]              1\nMove From [460, 461] To [465, 466]              1\nMove From [905, 1314] To [907, 1316]            1\nMove From [565, 743] To [669, 847]              1\nMove From [669, 847] To [565, 743]              1\nMove From [1041, 1121] To [1496, 1576]          1\nMove From [1455, 1557] To [1323, 1425]          1\nMove From [2268, 2275] To [2247, 2254]          1\nMove From [213, 302] To [902, 991]              1\nMove From [0, 158] To [234, 392]                1\nMove From [460, 465] To [925, 930]              1\nMove From [810, 906] To [816, 912]              1\nMove From [186, 187] To [184, 185]              1\nMove From [140, 272] To [299, 431]              1\nMove From [114, 140] To [272, 298]              1\nMove From [1386, 1450] To [1445, 1509]          1\nMove From [442, 524] To [296, 378]              1\nMove From [408, 414] To [390, 396]              1\nMove From [382, 437] To [458, 513]              1\nName: count, dtype: int64"
     },
     "execution_count": 12,
     "metadata": {},
     "output_type": "execute_result"
    }
   ],
   "source": [
    "# Highly skewed dataset\n",
    "train_df[\"activity\"].value_counts()"
   ],
   "metadata": {
    "collapsed": false,
    "ExecuteTime": {
     "end_time": "2023-10-29T06:29:09.140371Z",
     "start_time": "2023-10-29T06:29:09.133466Z"
    }
   }
  },
  {
   "cell_type": "code",
   "execution_count": 13,
   "outputs": [
    {
     "data": {
      "text/plain": "0          Nonproduction\n1          Nonproduction\n2          Nonproduction\n3                  Input\n4                  Input\n               ...      \n8405893    Nonproduction\n8405894    Nonproduction\n8405895          Replace\n8405896    Nonproduction\n8405897            Input\nName: activity, Length: 8405898, dtype: object"
     },
     "execution_count": 13,
     "metadata": {},
     "output_type": "execute_result"
    }
   ],
   "source": [
    "train_df[\"activity\"]"
   ],
   "metadata": {
    "collapsed": false,
    "ExecuteTime": {
     "end_time": "2023-10-29T06:29:09.140657Z",
     "start_time": "2023-10-29T06:29:09.137844Z"
    }
   }
  },
  {
   "cell_type": "code",
   "execution_count": 14,
   "outputs": [
    {
     "data": {
      "text/plain": "         id  event_id  down_time  up_time  action_time       activity  \\\n0  001519c8         1       4526     4557           31  Nonproduction   \n1  001519c8         2       4558     4962          404  Nonproduction   \n2  001519c8         3     106571   106571            0  Nonproduction   \n3  001519c8         4     106686   106777           91          Input   \n4  001519c8         5     107196   107323          127          Input   \n\n  down_event   up_event text_change  cursor_position  word_count  score  \n0  Leftclick  Leftclick    NoChange                0           0    3.5  \n1  Leftclick  Leftclick    NoChange                0           0    3.5  \n2      Shift      Shift    NoChange                0           0    3.5  \n3          q          q           q                1           1    3.5  \n4          q          q           q                2           1    3.5  ",
      "text/html": "<div>\n<style scoped>\n    .dataframe tbody tr th:only-of-type {\n        vertical-align: middle;\n    }\n\n    .dataframe tbody tr th {\n        vertical-align: top;\n    }\n\n    .dataframe thead th {\n        text-align: right;\n    }\n</style>\n<table border=\"1\" class=\"dataframe\">\n  <thead>\n    <tr style=\"text-align: right;\">\n      <th></th>\n      <th>id</th>\n      <th>event_id</th>\n      <th>down_time</th>\n      <th>up_time</th>\n      <th>action_time</th>\n      <th>activity</th>\n      <th>down_event</th>\n      <th>up_event</th>\n      <th>text_change</th>\n      <th>cursor_position</th>\n      <th>word_count</th>\n      <th>score</th>\n    </tr>\n  </thead>\n  <tbody>\n    <tr>\n      <th>0</th>\n      <td>001519c8</td>\n      <td>1</td>\n      <td>4526</td>\n      <td>4557</td>\n      <td>31</td>\n      <td>Nonproduction</td>\n      <td>Leftclick</td>\n      <td>Leftclick</td>\n      <td>NoChange</td>\n      <td>0</td>\n      <td>0</td>\n      <td>3.5</td>\n    </tr>\n    <tr>\n      <th>1</th>\n      <td>001519c8</td>\n      <td>2</td>\n      <td>4558</td>\n      <td>4962</td>\n      <td>404</td>\n      <td>Nonproduction</td>\n      <td>Leftclick</td>\n      <td>Leftclick</td>\n      <td>NoChange</td>\n      <td>0</td>\n      <td>0</td>\n      <td>3.5</td>\n    </tr>\n    <tr>\n      <th>2</th>\n      <td>001519c8</td>\n      <td>3</td>\n      <td>106571</td>\n      <td>106571</td>\n      <td>0</td>\n      <td>Nonproduction</td>\n      <td>Shift</td>\n      <td>Shift</td>\n      <td>NoChange</td>\n      <td>0</td>\n      <td>0</td>\n      <td>3.5</td>\n    </tr>\n    <tr>\n      <th>3</th>\n      <td>001519c8</td>\n      <td>4</td>\n      <td>106686</td>\n      <td>106777</td>\n      <td>91</td>\n      <td>Input</td>\n      <td>q</td>\n      <td>q</td>\n      <td>q</td>\n      <td>1</td>\n      <td>1</td>\n      <td>3.5</td>\n    </tr>\n    <tr>\n      <th>4</th>\n      <td>001519c8</td>\n      <td>5</td>\n      <td>107196</td>\n      <td>107323</td>\n      <td>127</td>\n      <td>Input</td>\n      <td>q</td>\n      <td>q</td>\n      <td>q</td>\n      <td>2</td>\n      <td>1</td>\n      <td>3.5</td>\n    </tr>\n  </tbody>\n</table>\n</div>"
     },
     "execution_count": 14,
     "metadata": {},
     "output_type": "execute_result"
    }
   ],
   "source": [
    "train_df.head()"
   ],
   "metadata": {
    "collapsed": false,
    "ExecuteTime": {
     "end_time": "2023-10-29T06:29:09.147200Z",
     "start_time": "2023-10-29T06:29:09.144528Z"
    }
   }
  },
  {
   "cell_type": "markdown",
   "source": [
    "# Data Filteration"
   ],
   "metadata": {
    "collapsed": false
   }
  },
  {
   "cell_type": "code",
   "execution_count": 21,
   "outputs": [],
   "source": [
    "# Splitting the dataset between the categorical and numerical values\n",
    "num_attributes = [\"id\",\"event_id\",\"down_time\",\"up_time\",\"action_time\",\"cursor_position\",\"word_count\"]\n",
    "cat_attributes = [\"activity\",\"down_event\",\"up_event\",\"text_change\"]\n"
   ],
   "metadata": {
    "collapsed": false,
    "ExecuteTime": {
     "end_time": "2023-10-29T06:29:10.059129Z",
     "start_time": "2023-10-29T06:29:10.053452Z"
    }
   }
  },
  {
   "cell_type": "code",
   "execution_count": 22,
   "outputs": [],
   "source": [
    "num_pipeline = ()\n",
    "cat_pipeline = ()"
   ],
   "metadata": {
    "collapsed": false,
    "ExecuteTime": {
     "end_time": "2023-10-29T06:29:10.059327Z",
     "start_time": "2023-10-29T06:29:10.055535Z"
    }
   }
  },
  {
   "cell_type": "code",
   "execution_count": 80,
   "outputs": [],
   "source": [
    "class Remove_id(BaseEstimator,TransformerMixin):\n",
    "    def __init__(self):\n",
    "        pass\n",
    "    \n",
    "    def fit(self,X,y=None):\n",
    "        \"\"\"Remove the id column\"\"\"\n",
    "        self.remove_column = \"id\"\n",
    "        return self\n",
    "    \n",
    "    def transform(self,X):\n",
    "        if self.remove_column in X.columns:\n",
    "            X = X.drop(columns = self.remove_column)\n",
    "        return X.to_numpy()\n",
    "\n",
    "    def get_feature_names_out(self, input_features=None):\n",
    "        return [f\"Reduce_{i}\" for i in input_features][1:]"
   ],
   "metadata": {
    "collapsed": false,
    "ExecuteTime": {
     "end_time": "2023-10-29T08:19:08.078125Z",
     "start_time": "2023-10-29T08:19:08.072804Z"
    }
   }
  },
  {
   "cell_type": "code",
   "execution_count": 81,
   "outputs": [],
   "source": [
    "class Reduce_text_change(BaseEstimator,TransformerMixin):\n",
    "    def __init__(self):\n",
    "        pass\n",
    "\n",
    "    def fit(self,X,y=None):\n",
    "        \"\"\"Remove the id column\"\"\"\n",
    "        return self\n",
    "\n",
    "    def transform(self,X):\n",
    "        # X is the column here\n",
    "        final = []\n",
    "        for element in X[\"text_change\"]:\n",
    "            # check if => symbol exist \n",
    "            if \"=>\" in element:\n",
    "                left,right = element.split(\"=>\")\n",
    "                final.append(len(right) - len(left))\n",
    "            elif element == \"NoChange\":\n",
    "                final.append(0)\n",
    "            else:\n",
    "                final.append(len(element))\n",
    "        temp = pd.concat([X,pd.Series(final)],axis = 1).to_numpy()\n",
    "        return temp\n",
    "\n",
    "    def get_feature_names_out(self, input_features=None):\n",
    "        input_features = np.append(input_features,\"New_dawn\")\n",
    "        return [f\"text_changed_{i}\" for i in input_features]"
   ],
   "metadata": {
    "collapsed": false,
    "ExecuteTime": {
     "end_time": "2023-10-29T08:19:08.326996Z",
     "start_time": "2023-10-29T08:19:08.320944Z"
    }
   }
  },
  {
   "cell_type": "code",
   "execution_count": 82,
   "outputs": [],
   "source": [
    "processing = ColumnTransformer([\n",
    "    (\"RemoveId\",make_pipeline(Remove_id()), num_attributes),\n",
    "    # (\"cat\", make_pipeline(OneHotEncoder(handle_unknown=\"ignore\",sparse_output=False)),cat_attributes),\n",
    "    (\"ValueSum\",make_pipeline(Reduce_text_change()),[\"text_change\"])\n",
    "])"
   ],
   "metadata": {
    "collapsed": false,
    "ExecuteTime": {
     "end_time": "2023-10-29T08:19:08.689749Z",
     "start_time": "2023-10-29T08:19:08.681759Z"
    }
   }
  },
  {
   "cell_type": "code",
   "execution_count": 87,
   "outputs": [],
   "source": [
    "temp = processing.fit_transform(train_df)"
   ],
   "metadata": {
    "collapsed": false,
    "ExecuteTime": {
     "end_time": "2023-10-29T08:20:19.814172Z",
     "start_time": "2023-10-29T08:20:17.390621Z"
    }
   }
  },
  {
   "cell_type": "code",
   "execution_count": 86,
   "outputs": [
    {
     "data": {
      "text/plain": "        RemoveId__Reduce_event_id RemoveId__Reduce_down_time  \\\n0                               1                       4526   \n1                               2                       4558   \n2                               3                     106571   \n3                               4                     106686   \n4                               5                     107196   \n...                           ...                        ...   \n8405893                      3615                    2063944   \n8405894                      3616                    2064497   \n8405895                      3617                    2064657   \n8405896                      3618                    2069186   \n8405897                      3619                    2070065   \n\n        RemoveId__Reduce_up_time RemoveId__Reduce_action_time  \\\n0                           4557                           31   \n1                           4962                          404   \n2                         106571                            0   \n3                         106777                           91   \n4                         107323                          127   \n...                          ...                          ...   \n8405893                  2064440                          496   \n8405894                  2064497                            0   \n8405895                  2064765                          108   \n8405896                  2069259                           73   \n8405897                  2070133                           68   \n\n        RemoveId__Reduce_cursor_position RemoveId__Reduce_word_count  \\\n0                                      0                           0   \n1                                      0                           0   \n2                                      0                           0   \n3                                      1                           1   \n4                                      2                           1   \n...                                  ...                         ...   \n8405893                             1031                         240   \n8405894                             1031                         240   \n8405895                             1031                         240   \n8405896                             1028                         240   \n8405897                             1029                         240   \n\n        ValueSum__text_changed_text_change ValueSum__text_changed_New_dawn  \n0                                 NoChange                               0  \n1                                 NoChange                               0  \n2                                 NoChange                               0  \n3                                        q                               1  \n4                                        q                               1  \n...                                    ...                             ...  \n8405893                           NoChange                               0  \n8405894                           NoChange                               0  \n8405895                             q => q                               0  \n8405896                           NoChange                               0  \n8405897                                  .                               1  \n\n[8405898 rows x 8 columns]",
      "text/html": "<div>\n<style scoped>\n    .dataframe tbody tr th:only-of-type {\n        vertical-align: middle;\n    }\n\n    .dataframe tbody tr th {\n        vertical-align: top;\n    }\n\n    .dataframe thead th {\n        text-align: right;\n    }\n</style>\n<table border=\"1\" class=\"dataframe\">\n  <thead>\n    <tr style=\"text-align: right;\">\n      <th></th>\n      <th>RemoveId__Reduce_event_id</th>\n      <th>RemoveId__Reduce_down_time</th>\n      <th>RemoveId__Reduce_up_time</th>\n      <th>RemoveId__Reduce_action_time</th>\n      <th>RemoveId__Reduce_cursor_position</th>\n      <th>RemoveId__Reduce_word_count</th>\n      <th>ValueSum__text_changed_text_change</th>\n      <th>ValueSum__text_changed_New_dawn</th>\n    </tr>\n  </thead>\n  <tbody>\n    <tr>\n      <th>0</th>\n      <td>1</td>\n      <td>4526</td>\n      <td>4557</td>\n      <td>31</td>\n      <td>0</td>\n      <td>0</td>\n      <td>NoChange</td>\n      <td>0</td>\n    </tr>\n    <tr>\n      <th>1</th>\n      <td>2</td>\n      <td>4558</td>\n      <td>4962</td>\n      <td>404</td>\n      <td>0</td>\n      <td>0</td>\n      <td>NoChange</td>\n      <td>0</td>\n    </tr>\n    <tr>\n      <th>2</th>\n      <td>3</td>\n      <td>106571</td>\n      <td>106571</td>\n      <td>0</td>\n      <td>0</td>\n      <td>0</td>\n      <td>NoChange</td>\n      <td>0</td>\n    </tr>\n    <tr>\n      <th>3</th>\n      <td>4</td>\n      <td>106686</td>\n      <td>106777</td>\n      <td>91</td>\n      <td>1</td>\n      <td>1</td>\n      <td>q</td>\n      <td>1</td>\n    </tr>\n    <tr>\n      <th>4</th>\n      <td>5</td>\n      <td>107196</td>\n      <td>107323</td>\n      <td>127</td>\n      <td>2</td>\n      <td>1</td>\n      <td>q</td>\n      <td>1</td>\n    </tr>\n    <tr>\n      <th>...</th>\n      <td>...</td>\n      <td>...</td>\n      <td>...</td>\n      <td>...</td>\n      <td>...</td>\n      <td>...</td>\n      <td>...</td>\n      <td>...</td>\n    </tr>\n    <tr>\n      <th>8405893</th>\n      <td>3615</td>\n      <td>2063944</td>\n      <td>2064440</td>\n      <td>496</td>\n      <td>1031</td>\n      <td>240</td>\n      <td>NoChange</td>\n      <td>0</td>\n    </tr>\n    <tr>\n      <th>8405894</th>\n      <td>3616</td>\n      <td>2064497</td>\n      <td>2064497</td>\n      <td>0</td>\n      <td>1031</td>\n      <td>240</td>\n      <td>NoChange</td>\n      <td>0</td>\n    </tr>\n    <tr>\n      <th>8405895</th>\n      <td>3617</td>\n      <td>2064657</td>\n      <td>2064765</td>\n      <td>108</td>\n      <td>1031</td>\n      <td>240</td>\n      <td>q =&gt; q</td>\n      <td>0</td>\n    </tr>\n    <tr>\n      <th>8405896</th>\n      <td>3618</td>\n      <td>2069186</td>\n      <td>2069259</td>\n      <td>73</td>\n      <td>1028</td>\n      <td>240</td>\n      <td>NoChange</td>\n      <td>0</td>\n    </tr>\n    <tr>\n      <th>8405897</th>\n      <td>3619</td>\n      <td>2070065</td>\n      <td>2070133</td>\n      <td>68</td>\n      <td>1029</td>\n      <td>240</td>\n      <td>.</td>\n      <td>1</td>\n    </tr>\n  </tbody>\n</table>\n<p>8405898 rows × 8 columns</p>\n</div>"
     },
     "execution_count": 86,
     "metadata": {},
     "output_type": "execute_result"
    }
   ],
   "source": [
    "pd.DataFrame(temp,columns=processing.get_feature_names_out())"
   ],
   "metadata": {
    "collapsed": false,
    "ExecuteTime": {
     "end_time": "2023-10-29T08:19:17.808412Z",
     "start_time": "2023-10-29T08:19:17.777992Z"
    }
   }
  },
  {
   "cell_type": "code",
   "execution_count": null,
   "outputs": [],
   "source": [],
   "metadata": {
    "collapsed": false
   }
  }
 ],
 "metadata": {
  "kernelspec": {
   "display_name": "Python 3",
   "language": "python",
   "name": "python3"
  },
  "language_info": {
   "codemirror_mode": {
    "name": "ipython",
    "version": 2
   },
   "file_extension": ".py",
   "mimetype": "text/x-python",
   "name": "python",
   "nbconvert_exporter": "python",
   "pygments_lexer": "ipython2",
   "version": "2.7.6"
  }
 },
 "nbformat": 4,
 "nbformat_minor": 0
}
