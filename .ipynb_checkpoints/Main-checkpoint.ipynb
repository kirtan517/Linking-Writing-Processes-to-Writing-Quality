{
 "cells": [
  {
   "cell_type": "code",
   "execution_count": 1,
   "metadata": {
    "collapsed": true,
    "ExecuteTime": {
     "end_time": "2023-11-12T22:02:09.061898Z",
     "start_time": "2023-11-12T22:02:07.214626Z"
    }
   },
   "outputs": [
    {
     "name": "stderr",
     "output_type": "stream",
     "text": [
      "/opt/miniconda3/envs/kaggle/lib/python3.11/site-packages/tqdm/auto.py:21: TqdmWarning: IProgress not found. Please update jupyter and ipywidgets. See https://ipywidgets.readthedocs.io/en/stable/user_install.html\n",
      "  from .autonotebook import tqdm as notebook_tqdm\n"
     ]
    }
   ],
   "source": [
    "# importing necessary libraries\n",
    "import numpy as np\n",
    "import pandas as pd\n",
    "import matplotlib.pyplot as plt\n",
    "import os\n",
    "from sklearn.compose import ColumnTransformer\n",
    "from sklearn.pipeline import make_pipeline\n",
    "from sklearn.preprocessing import OneHotEncoder,StandardScaler\n",
    "from Functionality import Reduce_numerical_columns,Reduce_text_change,Reduce_event,Reduce_activity,getX_Y,getModel,performCrossValidation,makePredictions,perfromGridSearch,performKfoldScore,Aggregation,ConcatAlongId\n",
    "from sklearn.linear_model import LinearRegression,SGDRegressor\n",
    "from sklearn.metrics import mean_squared_error\n",
    "from sklearn.ensemble import RandomForestRegressor\n",
    "import optuna\n",
    "from sklearn.model_selection import train_test_split\n",
    "from sklearn.ensemble import GradientBoostingRegressor\n",
    "from sklearn.preprocessing import PolynomialFeatures"
   ]
  },
  {
   "cell_type": "code",
   "execution_count": 2,
   "metadata": {
    "collapsed": false,
    "ExecuteTime": {
     "end_time": "2023-11-12T22:02:09.088198Z",
     "start_time": "2023-11-12T22:02:09.038758Z"
    }
   },
   "outputs": [],
   "source": [
    "# Directories Where the data is present\n",
    "train_logs_directory = os.path.join(\"Data\",\"train_logs.csv\")\n",
    "train_scores_directory = os.path.join(\"Data\",\"train_scores.csv\")\n",
    "test_logs_directory = os.path.join(\"Data\",\"test_logs.csv\")"
   ]
  },
  {
   "cell_type": "markdown",
   "metadata": {
    "collapsed": false
   },
   "source": [
    "# Loading Dataset"
   ]
  },
  {
   "cell_type": "code",
   "execution_count": 3,
   "metadata": {
    "collapsed": false,
    "ExecuteTime": {
     "end_time": "2023-11-12T22:02:13.870741Z",
     "start_time": "2023-11-12T22:02:09.058499Z"
    }
   },
   "outputs": [],
   "source": [
    "# following the naming convention that everything related\n",
    "# to train will be followed by train_ and everything followed by test will be followed by test_\n",
    "train_logs_df = pd.read_csv(train_logs_directory)\n",
    "test_logs_df = pd.read_csv(test_logs_directory)\n",
    "train_scores_df = pd.read_csv(train_scores_directory)"
   ]
  },
  {
   "cell_type": "code",
   "execution_count": 4,
   "metadata": {
    "collapsed": false,
    "ExecuteTime": {
     "end_time": "2023-11-12T22:02:14.570326Z",
     "start_time": "2023-11-12T22:02:14.074374Z"
    }
   },
   "outputs": [
    {
     "data": {
      "text/plain": "         id  event_id  down_time  up_time  action_time       activity  \\\n0  001519c8         1       4526     4557           31  Nonproduction   \n1  001519c8         2       4558     4962          404  Nonproduction   \n2  001519c8         3     106571   106571            0  Nonproduction   \n3  001519c8         4     106686   106777           91          Input   \n4  001519c8         5     107196   107323          127          Input   \n\n  down_event   up_event text_change  cursor_position  word_count  score  \n0  Leftclick  Leftclick    NoChange                0           0    3.5  \n1  Leftclick  Leftclick    NoChange                0           0    3.5  \n2      Shift      Shift    NoChange                0           0    3.5  \n3          q          q           q                1           1    3.5  \n4          q          q           q                2           1    3.5  ",
      "text/html": "<div>\n<style scoped>\n    .dataframe tbody tr th:only-of-type {\n        vertical-align: middle;\n    }\n\n    .dataframe tbody tr th {\n        vertical-align: top;\n    }\n\n    .dataframe thead th {\n        text-align: right;\n    }\n</style>\n<table border=\"1\" class=\"dataframe\">\n  <thead>\n    <tr style=\"text-align: right;\">\n      <th></th>\n      <th>id</th>\n      <th>event_id</th>\n      <th>down_time</th>\n      <th>up_time</th>\n      <th>action_time</th>\n      <th>activity</th>\n      <th>down_event</th>\n      <th>up_event</th>\n      <th>text_change</th>\n      <th>cursor_position</th>\n      <th>word_count</th>\n      <th>score</th>\n    </tr>\n  </thead>\n  <tbody>\n    <tr>\n      <th>0</th>\n      <td>001519c8</td>\n      <td>1</td>\n      <td>4526</td>\n      <td>4557</td>\n      <td>31</td>\n      <td>Nonproduction</td>\n      <td>Leftclick</td>\n      <td>Leftclick</td>\n      <td>NoChange</td>\n      <td>0</td>\n      <td>0</td>\n      <td>3.5</td>\n    </tr>\n    <tr>\n      <th>1</th>\n      <td>001519c8</td>\n      <td>2</td>\n      <td>4558</td>\n      <td>4962</td>\n      <td>404</td>\n      <td>Nonproduction</td>\n      <td>Leftclick</td>\n      <td>Leftclick</td>\n      <td>NoChange</td>\n      <td>0</td>\n      <td>0</td>\n      <td>3.5</td>\n    </tr>\n    <tr>\n      <th>2</th>\n      <td>001519c8</td>\n      <td>3</td>\n      <td>106571</td>\n      <td>106571</td>\n      <td>0</td>\n      <td>Nonproduction</td>\n      <td>Shift</td>\n      <td>Shift</td>\n      <td>NoChange</td>\n      <td>0</td>\n      <td>0</td>\n      <td>3.5</td>\n    </tr>\n    <tr>\n      <th>3</th>\n      <td>001519c8</td>\n      <td>4</td>\n      <td>106686</td>\n      <td>106777</td>\n      <td>91</td>\n      <td>Input</td>\n      <td>q</td>\n      <td>q</td>\n      <td>q</td>\n      <td>1</td>\n      <td>1</td>\n      <td>3.5</td>\n    </tr>\n    <tr>\n      <th>4</th>\n      <td>001519c8</td>\n      <td>5</td>\n      <td>107196</td>\n      <td>107323</td>\n      <td>127</td>\n      <td>Input</td>\n      <td>q</td>\n      <td>q</td>\n      <td>q</td>\n      <td>2</td>\n      <td>1</td>\n      <td>3.5</td>\n    </tr>\n  </tbody>\n</table>\n</div>"
     },
     "execution_count": 4,
     "metadata": {},
     "output_type": "execute_result"
    }
   ],
   "source": [
    "train_df = pd.merge(train_logs_df,train_scores_df,on = \"id\",how = \"inner\")\n",
    "train_df.head()"
   ]
  },
  {
   "cell_type": "markdown",
   "metadata": {
    "collapsed": false
   },
   "source": [
    "# Exploratory Data Analysis"
   ]
  },
  {
   "cell_type": "code",
   "execution_count": 5,
   "metadata": {
    "collapsed": false,
    "ExecuteTime": {
     "end_time": "2023-11-12T22:02:14.571549Z",
     "start_time": "2023-11-12T22:02:14.567635Z"
    }
   },
   "outputs": [],
   "source": [
    "# No null values are present\n",
    "# train_logs_df.isnull().sum()"
   ]
  },
  {
   "cell_type": "code",
   "execution_count": 6,
   "metadata": {
    "collapsed": false,
    "ExecuteTime": {
     "end_time": "2023-11-12T22:02:14.573504Z",
     "start_time": "2023-11-12T22:02:14.570576Z"
    }
   },
   "outputs": [
    {
     "data": {
      "text/plain": "id                  object\nevent_id             int64\ndown_time            int64\nup_time              int64\naction_time          int64\nactivity            object\ndown_event          object\nup_event            object\ntext_change         object\ncursor_position      int64\nword_count           int64\nscore              float64\ndtype: object"
     },
     "execution_count": 6,
     "metadata": {},
     "output_type": "execute_result"
    }
   ],
   "source": [
    "train_df.dtypes"
   ]
  },
  {
   "cell_type": "code",
   "execution_count": 7,
   "metadata": {
    "collapsed": false,
    "ExecuteTime": {
     "end_time": "2023-11-12T22:02:14.576040Z",
     "start_time": "2023-11-12T22:02:14.573795Z"
    }
   },
   "outputs": [
    {
     "data": {
      "text/plain": "Index(['id', 'event_id', 'down_time', 'up_time', 'action_time', 'activity',\n       'down_event', 'up_event', 'text_change', 'cursor_position',\n       'word_count', 'score'],\n      dtype='object')"
     },
     "execution_count": 7,
     "metadata": {},
     "output_type": "execute_result"
    }
   ],
   "source": [
    "train_df.columns"
   ]
  },
  {
   "cell_type": "code",
   "execution_count": 8,
   "metadata": {
    "collapsed": false,
    "ExecuteTime": {
     "end_time": "2023-11-12T22:02:14.791213Z",
     "start_time": "2023-11-12T22:02:14.733571Z"
    }
   },
   "outputs": [
    {
     "data": {
      "text/plain": "array(['Leftclick', 'Shift', 'q', 'Space', 'Backspace', '.', ',', 'Enter',\n       'ArrowLeft', \"'\", ';', 'ArrowRight', '-', '?', 'Tab', '\"',\n       'ArrowUp', 'ArrowDown', 'm', 'Rightclick', 'i', 'o', 't', '=', 'a',\n       'CapsLock', 'Control', 'c', 'v', '/', 'Delete', ':', 'z', '[', '$',\n       '(', ')', '+', 'Home', 'End', '\\\\', 'Meta', '*', '&',\n       'AudioVolumeMute', 'x', '!', 'Insert', 'MediaPlayPause', 'w',\n       'NumLock', '%', 'V', 'b', '>', 'Alt', 'AudioVolumeUp',\n       'ContextMenu', 'AudioVolumeDown', 'n', 'e', '<', 'PageDown', ']',\n       'Middleclick', '@', 'F12', 'u', 'j', 's', '\\x96', 'Dead', 'y', '{',\n       'ScrollLock', '¿', 'p', 'Process', '}', 'MediaTrackPrevious',\n       'MediaTrackNext', 'F3', '^', 'Unidentified', 'Cancel', 'h', '2',\n       'd', 'r', '`', '\\x9b', 'f', 'g', '#', '~', 'PageUp', 'l', 'T', 'A',\n       'S', 'ModeChange', '_', 'Escape', 'F11', 'Unknownclick',\n       'AltGraph', 'F10', 'F15', 'Clear', 'OS', 'C', 'Ä±', 'M', '|',\n       'â\\x80\\x93', '0', '1', '5', '\\x97', 'Ë\\x86', '¡', '\\x80', 'Â´',\n       'Å\\x9f', 'F2', 'ä', 'F1', 'k', 'Pause', 'F6'], dtype=object)"
     },
     "execution_count": 8,
     "metadata": {},
     "output_type": "execute_result"
    }
   ],
   "source": [
    "train_df[\"up_event\"].unique()"
   ]
  },
  {
   "cell_type": "code",
   "execution_count": 9,
   "metadata": {
    "collapsed": false,
    "ExecuteTime": {
     "end_time": "2023-11-12T22:02:15.000571Z",
     "start_time": "2023-11-12T22:02:14.944002Z"
    }
   },
   "outputs": [
    {
     "data": {
      "text/plain": "array(['Nonproduction', 'Input', 'Remove/Cut', 'Replace',\n       'Move From [284, 292] To [282, 290]',\n       'Move From [287, 289] To [285, 287]',\n       'Move From [460, 461] To [465, 466]', 'Paste',\n       'Move From [905, 1314] To [907, 1316]',\n       'Move From [565, 743] To [669, 847]',\n       'Move From [669, 847] To [565, 743]',\n       'Move From [1041, 1121] To [1496, 1576]',\n       'Move From [1455, 1557] To [1323, 1425]',\n       'Move From [2268, 2275] To [2247, 2254]',\n       'Move From [213, 302] To [902, 991]',\n       'Move From [0, 158] To [234, 392]',\n       'Move From [460, 465] To [925, 930]',\n       'Move From [810, 906] To [816, 912]',\n       'Move From [186, 187] To [184, 185]',\n       'Move From [140, 272] To [299, 431]',\n       'Move From [114, 140] To [272, 298]',\n       'Move From [1386, 1450] To [1445, 1509]',\n       'Move From [442, 524] To [296, 378]',\n       'Move From [408, 414] To [390, 396]',\n       'Move From [1144, 1147] To [1142, 1145]',\n       'Move From [218, 220] To [206, 208]',\n       'Move From [164, 165] To [153, 154]',\n       'Move From [623, 632] To [624, 633]',\n       'Move From [747, 960] To [1041, 1254]',\n       'Move From [274, 314] To [299, 339]',\n       'Move From [624, 625] To [845, 846]',\n       'Move From [1861, 2063] To [1766, 1968]',\n       'Move From [1766, 1968] To [1861, 2063]',\n       'Move From [2091, 2179] To [252, 340]',\n       'Move From [923, 1077] To [340, 494]',\n       'Move From [0, 1] To [590, 591]',\n       'Move From [999, 1000] To [1000, 1001]',\n       'Move From [13, 65] To [9, 61]',\n       'Move From [1651, 1769] To [1565, 1683]',\n       'Move From [61, 136] To [0, 75]', 'Move From [0, 75] To [1, 76]',\n       'Move From [75, 134] To [304, 363]',\n       'Move From [289, 355] To [562, 628]',\n       'Move From [944, 1102] To [1050, 1208]',\n       'Move From [1306, 1371] To [1061, 1126]',\n       'Move From [1061, 1126] To [1306, 1371]',\n       'Move From [1361, 1362] To [1358, 1359]',\n       'Move From [51, 86] To [109, 144]',\n       'Move From [134, 169] To [122, 157]',\n       'Move From [382, 437] To [458, 513]'], dtype=object)"
     },
     "execution_count": 9,
     "metadata": {},
     "output_type": "execute_result"
    }
   ],
   "source": [
    "# Highly skewed dataset\n",
    "train_df[\"activity\"].unique()"
   ]
  },
  {
   "cell_type": "code",
   "execution_count": 10,
   "metadata": {
    "collapsed": false,
    "ExecuteTime": {
     "end_time": "2023-11-12T22:02:15.010507Z",
     "start_time": "2023-11-12T22:02:15.001406Z"
    }
   },
   "outputs": [
    {
     "data": {
      "text/plain": "0          Nonproduction\n1          Nonproduction\n2          Nonproduction\n3                  Input\n4                  Input\n               ...      \n8405893    Nonproduction\n8405894    Nonproduction\n8405895          Replace\n8405896    Nonproduction\n8405897            Input\nName: activity, Length: 8405898, dtype: object"
     },
     "execution_count": 10,
     "metadata": {},
     "output_type": "execute_result"
    }
   ],
   "source": [
    "train_df[\"activity\"]"
   ]
  },
  {
   "cell_type": "code",
   "execution_count": 11,
   "metadata": {
    "collapsed": false,
    "ExecuteTime": {
     "end_time": "2023-11-12T22:02:15.011771Z",
     "start_time": "2023-11-12T22:02:15.006850Z"
    }
   },
   "outputs": [
    {
     "data": {
      "text/plain": "         id  event_id  down_time  up_time  action_time       activity  \\\n0  001519c8         1       4526     4557           31  Nonproduction   \n1  001519c8         2       4558     4962          404  Nonproduction   \n2  001519c8         3     106571   106571            0  Nonproduction   \n3  001519c8         4     106686   106777           91          Input   \n4  001519c8         5     107196   107323          127          Input   \n\n  down_event   up_event text_change  cursor_position  word_count  score  \n0  Leftclick  Leftclick    NoChange                0           0    3.5  \n1  Leftclick  Leftclick    NoChange                0           0    3.5  \n2      Shift      Shift    NoChange                0           0    3.5  \n3          q          q           q                1           1    3.5  \n4          q          q           q                2           1    3.5  ",
      "text/html": "<div>\n<style scoped>\n    .dataframe tbody tr th:only-of-type {\n        vertical-align: middle;\n    }\n\n    .dataframe tbody tr th {\n        vertical-align: top;\n    }\n\n    .dataframe thead th {\n        text-align: right;\n    }\n</style>\n<table border=\"1\" class=\"dataframe\">\n  <thead>\n    <tr style=\"text-align: right;\">\n      <th></th>\n      <th>id</th>\n      <th>event_id</th>\n      <th>down_time</th>\n      <th>up_time</th>\n      <th>action_time</th>\n      <th>activity</th>\n      <th>down_event</th>\n      <th>up_event</th>\n      <th>text_change</th>\n      <th>cursor_position</th>\n      <th>word_count</th>\n      <th>score</th>\n    </tr>\n  </thead>\n  <tbody>\n    <tr>\n      <th>0</th>\n      <td>001519c8</td>\n      <td>1</td>\n      <td>4526</td>\n      <td>4557</td>\n      <td>31</td>\n      <td>Nonproduction</td>\n      <td>Leftclick</td>\n      <td>Leftclick</td>\n      <td>NoChange</td>\n      <td>0</td>\n      <td>0</td>\n      <td>3.5</td>\n    </tr>\n    <tr>\n      <th>1</th>\n      <td>001519c8</td>\n      <td>2</td>\n      <td>4558</td>\n      <td>4962</td>\n      <td>404</td>\n      <td>Nonproduction</td>\n      <td>Leftclick</td>\n      <td>Leftclick</td>\n      <td>NoChange</td>\n      <td>0</td>\n      <td>0</td>\n      <td>3.5</td>\n    </tr>\n    <tr>\n      <th>2</th>\n      <td>001519c8</td>\n      <td>3</td>\n      <td>106571</td>\n      <td>106571</td>\n      <td>0</td>\n      <td>Nonproduction</td>\n      <td>Shift</td>\n      <td>Shift</td>\n      <td>NoChange</td>\n      <td>0</td>\n      <td>0</td>\n      <td>3.5</td>\n    </tr>\n    <tr>\n      <th>3</th>\n      <td>001519c8</td>\n      <td>4</td>\n      <td>106686</td>\n      <td>106777</td>\n      <td>91</td>\n      <td>Input</td>\n      <td>q</td>\n      <td>q</td>\n      <td>q</td>\n      <td>1</td>\n      <td>1</td>\n      <td>3.5</td>\n    </tr>\n    <tr>\n      <th>4</th>\n      <td>001519c8</td>\n      <td>5</td>\n      <td>107196</td>\n      <td>107323</td>\n      <td>127</td>\n      <td>Input</td>\n      <td>q</td>\n      <td>q</td>\n      <td>q</td>\n      <td>2</td>\n      <td>1</td>\n      <td>3.5</td>\n    </tr>\n  </tbody>\n</table>\n</div>"
     },
     "execution_count": 11,
     "metadata": {},
     "output_type": "execute_result"
    }
   ],
   "source": [
    "train_df.head()"
   ]
  },
  {
   "cell_type": "code",
   "execution_count": 12,
   "metadata": {
    "ExecuteTime": {
     "end_time": "2023-11-12T22:02:15.015641Z",
     "start_time": "2023-11-12T22:02:15.010343Z"
    }
   },
   "outputs": [
    {
     "data": {
      "text/plain": "0          NoChange\n1          NoChange\n2          NoChange\n3                 q\n4                 q\n             ...   \n8405893    NoChange\n8405894    NoChange\n8405895      q => q\n8405896    NoChange\n8405897           .\nName: text_change, Length: 8405898, dtype: object"
     },
     "execution_count": 12,
     "metadata": {},
     "output_type": "execute_result"
    }
   ],
   "source": [
    "train_df[\"text_change\"]"
   ]
  },
  {
   "cell_type": "markdown",
   "metadata": {
    "collapsed": false
   },
   "source": [
    "# Data Filteration"
   ]
  },
  {
   "cell_type": "code",
   "execution_count": 20,
   "metadata": {
    "collapsed": false,
    "ExecuteTime": {
     "end_time": "2023-11-12T22:16:54.809113Z",
     "start_time": "2023-11-12T22:16:54.800556Z"
    }
   },
   "outputs": [],
   "source": [
    "# Splitting the dataset between the categorical and numerical values\n",
    "num_attributes = [\"id\",\"event_id\",\"down_time\",\"up_time\",\"action_time\",\"cursor_position\",\"word_count\"]\n",
    "cat_attributes = [\"activity\",\"down_event\",\"up_event\",\"text_change\"]"
   ]
  },
  {
   "cell_type": "markdown",
   "source": [],
   "metadata": {
    "collapsed": false
   }
  },
  {
   "cell_type": "code",
   "execution_count": 21,
   "metadata": {
    "collapsed": false,
    "ExecuteTime": {
     "end_time": "2023-11-12T22:16:55.202485Z",
     "start_time": "2023-11-12T22:16:55.200133Z"
    }
   },
   "outputs": [],
   "source": [
    "processing = ColumnTransformer([\n",
    "    (\"RemoveId\",make_pipeline(Reduce_numerical_columns()),num_attributes),\n",
    "     (\"ValueSum\",make_pipeline(Reduce_text_change()),[\"text_change\",\"id\"]),\n",
    "    (\"RemoveMove\",make_pipeline(Reduce_activity(),OneHotEncoder(sparse_output=False)),[\"activity\"]),\n",
    "    (\"ReduceUpEvents\",make_pipeline(Reduce_event()),[\"up_event\"]),\n",
    "    # (\"ReduceDownEvents\",make_pipeline(Reduce_event()),[\"down_event\"]),   \n",
    "],\n",
    "    # remainder=\"passthrough\"\n",
    ")"
   ]
  },
  {
   "cell_type": "code",
   "execution_count": 22,
   "outputs": [],
   "source": [
    "train_logs_df,y = getX_Y(train_logs_df,train_scores_df,perform_harmonic_variation=False,aggregation=True)\n",
    "train_processed_numpy = processing.fit_transform(train_logs_df)\n",
    "test_processed_numpy = processing.transform(test_logs_df)\n",
    "train_processed_df = pd.DataFrame(train_processed_numpy,columns=processing.get_feature_names_out())\n",
    "test_processed_df = pd.DataFrame(test_processed_numpy,columns=processing.get_feature_names_out())"
   ],
   "metadata": {
    "collapsed": false,
    "ExecuteTime": {
     "end_time": "2023-11-12T22:19:14.124306Z",
     "start_time": "2023-11-12T22:16:55.490369Z"
    }
   }
  },
  {
   "cell_type": "code",
   "execution_count": 23,
   "outputs": [],
   "source": [
    "post_processing = make_pipeline(Aggregation())"
   ],
   "metadata": {
    "collapsed": false,
    "ExecuteTime": {
     "end_time": "2023-11-12T22:19:14.127167Z",
     "start_time": "2023-11-12T22:19:14.125628Z"
    }
   }
  },
  {
   "cell_type": "code",
   "execution_count": 24,
   "outputs": [
    {
     "name": "stderr",
     "output_type": "stream",
     "text": [
      "/Users/kirtankanani/Desktop/Python/kaggle/linking-writing-processes-to-writing-quality/Functionality/Transformations.py:287: PerformanceWarning: DataFrame is highly fragmented.  This is usually the result of calling `frame.insert` many times, which has poor performance.  Consider joining all columns at once using pd.concat(axis=1) instead. To get a de-fragmented frame, use `newframe = frame.copy()`\n",
      "  X[f'word_count_change{gap}'] = X['word_count'] - X[f'word_count_shift{gap}']\n",
      "/Users/kirtankanani/Desktop/Python/kaggle/linking-writing-processes-to-writing-quality/Functionality/Transformations.py:288: PerformanceWarning: DataFrame is highly fragmented.  This is usually the result of calling `frame.insert` many times, which has poor performance.  Consider joining all columns at once using pd.concat(axis=1) instead. To get a de-fragmented frame, use `newframe = frame.copy()`\n",
      "  X[f'word_count_abs_change{gap}'] = np.abs(X[f'word_count_change{gap}'])\n",
      "/Users/kirtankanani/Desktop/Python/kaggle/linking-writing-processes-to-writing-quality/Functionality/Transformations.py:287: PerformanceWarning: DataFrame is highly fragmented.  This is usually the result of calling `frame.insert` many times, which has poor performance.  Consider joining all columns at once using pd.concat(axis=1) instead. To get a de-fragmented frame, use `newframe = frame.copy()`\n",
      "  X[f'word_count_change{gap}'] = X['word_count'] - X[f'word_count_shift{gap}']\n",
      "/Users/kirtankanani/Desktop/Python/kaggle/linking-writing-processes-to-writing-quality/Functionality/Transformations.py:288: PerformanceWarning: DataFrame is highly fragmented.  This is usually the result of calling `frame.insert` many times, which has poor performance.  Consider joining all columns at once using pd.concat(axis=1) instead. To get a de-fragmented frame, use `newframe = frame.copy()`\n",
      "  X[f'word_count_abs_change{gap}'] = np.abs(X[f'word_count_change{gap}'])\n"
     ]
    }
   ],
   "source": [
    "# Concating the columns \n",
    "train_postprocessed_df = ConcatAlongId(train_processed_df,train_logs_df)\n",
    "test_postprocessed_df = ConcatAlongId(test_processed_df,test_logs_df)\n",
    "\n",
    "# Aggreagating the columns for both train and test\n",
    "train_postprocessed_numpy = post_processing.fit_transform(train_postprocessed_df)\n",
    "train_postprocessed_df = pd.DataFrame(train_postprocessed_numpy,columns=post_processing.get_feature_names_out())\n",
    "test_postprocessed_numpy = post_processing.transform(test_postprocessed_df)\n",
    "test_postprocessed_df = pd.DataFrame(test_postprocessed_numpy,columns=post_processing.get_feature_names_out())"
   ],
   "metadata": {
    "collapsed": false,
    "ExecuteTime": {
     "end_time": "2023-11-12T22:23:04.475134Z",
     "start_time": "2023-11-12T22:19:14.125995Z"
    }
   }
  },
  {
   "cell_type": "code",
   "execution_count": 26,
   "outputs": [
    {
     "data": {
      "text/plain": "   mean_action_time  std_action_time  min_action_time  max_action_time  \\\n0              86.0         1.414214             85.0             87.0   \n1              56.5        14.849242             46.0             67.0   \n2              75.0        26.870058             56.0             94.0   \n\n   first_action_time  last_action_time  sem_action_time  median_action_time  \\\n0               85.0              87.0              1.0                86.0   \n1               67.0              46.0             10.5                56.5   \n2               94.0              56.0             19.0                75.0   \n\n   skew_action_time  sum_action_time  ...  mean_Numbers_800  std_Numbers_800  \\\n0               NaN            172.0  ...               0.0              0.0   \n1               NaN            113.0  ...               0.0              0.0   \n2               NaN            150.0  ...               0.0              0.0   \n\n   min_Numbers_800  max_Numbers_800  first_Numbers_800  last_Numbers_800  \\\n0              0.0              0.0                0.0               0.0   \n1              0.0              0.0                0.0               0.0   \n2              0.0              0.0                0.0               0.0   \n\n   sem_Numbers_800  median_Numbers_800  skew_Numbers_800  sum_Numbers_800  \n0              0.0                 0.0               NaN              0.0  \n1              0.0                 0.0               NaN              0.0  \n2              0.0                 0.0               NaN              0.0  \n\n[3 rows x 818 columns]",
      "text/html": "<div>\n<style scoped>\n    .dataframe tbody tr th:only-of-type {\n        vertical-align: middle;\n    }\n\n    .dataframe tbody tr th {\n        vertical-align: top;\n    }\n\n    .dataframe thead th {\n        text-align: right;\n    }\n</style>\n<table border=\"1\" class=\"dataframe\">\n  <thead>\n    <tr style=\"text-align: right;\">\n      <th></th>\n      <th>mean_action_time</th>\n      <th>std_action_time</th>\n      <th>min_action_time</th>\n      <th>max_action_time</th>\n      <th>first_action_time</th>\n      <th>last_action_time</th>\n      <th>sem_action_time</th>\n      <th>median_action_time</th>\n      <th>skew_action_time</th>\n      <th>sum_action_time</th>\n      <th>...</th>\n      <th>mean_Numbers_800</th>\n      <th>std_Numbers_800</th>\n      <th>min_Numbers_800</th>\n      <th>max_Numbers_800</th>\n      <th>first_Numbers_800</th>\n      <th>last_Numbers_800</th>\n      <th>sem_Numbers_800</th>\n      <th>median_Numbers_800</th>\n      <th>skew_Numbers_800</th>\n      <th>sum_Numbers_800</th>\n    </tr>\n  </thead>\n  <tbody>\n    <tr>\n      <th>0</th>\n      <td>86.0</td>\n      <td>1.414214</td>\n      <td>85.0</td>\n      <td>87.0</td>\n      <td>85.0</td>\n      <td>87.0</td>\n      <td>1.0</td>\n      <td>86.0</td>\n      <td>NaN</td>\n      <td>172.0</td>\n      <td>...</td>\n      <td>0.0</td>\n      <td>0.0</td>\n      <td>0.0</td>\n      <td>0.0</td>\n      <td>0.0</td>\n      <td>0.0</td>\n      <td>0.0</td>\n      <td>0.0</td>\n      <td>NaN</td>\n      <td>0.0</td>\n    </tr>\n    <tr>\n      <th>1</th>\n      <td>56.5</td>\n      <td>14.849242</td>\n      <td>46.0</td>\n      <td>67.0</td>\n      <td>67.0</td>\n      <td>46.0</td>\n      <td>10.5</td>\n      <td>56.5</td>\n      <td>NaN</td>\n      <td>113.0</td>\n      <td>...</td>\n      <td>0.0</td>\n      <td>0.0</td>\n      <td>0.0</td>\n      <td>0.0</td>\n      <td>0.0</td>\n      <td>0.0</td>\n      <td>0.0</td>\n      <td>0.0</td>\n      <td>NaN</td>\n      <td>0.0</td>\n    </tr>\n    <tr>\n      <th>2</th>\n      <td>75.0</td>\n      <td>26.870058</td>\n      <td>56.0</td>\n      <td>94.0</td>\n      <td>94.0</td>\n      <td>56.0</td>\n      <td>19.0</td>\n      <td>75.0</td>\n      <td>NaN</td>\n      <td>150.0</td>\n      <td>...</td>\n      <td>0.0</td>\n      <td>0.0</td>\n      <td>0.0</td>\n      <td>0.0</td>\n      <td>0.0</td>\n      <td>0.0</td>\n      <td>0.0</td>\n      <td>0.0</td>\n      <td>NaN</td>\n      <td>0.0</td>\n    </tr>\n  </tbody>\n</table>\n<p>3 rows × 818 columns</p>\n</div>"
     },
     "execution_count": 26,
     "metadata": {},
     "output_type": "execute_result"
    }
   ],
   "source": [
    "test_postprocessed_df"
   ],
   "metadata": {
    "collapsed": false,
    "ExecuteTime": {
     "end_time": "2023-11-12T22:24:11.300818Z",
     "start_time": "2023-11-12T22:24:11.292853Z"
    }
   }
  },
  {
   "cell_type": "code",
   "execution_count": 31,
   "outputs": [
    {
     "name": "stdout",
     "output_type": "stream",
     "text": [
      "[100]\tvalid_0's rmse: 0.644185\n",
      "[200]\tvalid_0's rmse: 0.646571\n",
      "[100]\tvalid_0's rmse: 0.562018\n",
      "[200]\tvalid_0's rmse: 0.561547\n",
      "[300]\tvalid_0's rmse: 0.561316\n",
      "[100]\tvalid_0's rmse: 0.727585\n",
      "[200]\tvalid_0's rmse: 0.730028\n",
      "[300]\tvalid_0's rmse: 0.733917\n",
      "[100]\tvalid_0's rmse: 0.697641\n",
      "[200]\tvalid_0's rmse: 0.699096\n",
      "[300]\tvalid_0's rmse: 0.701697\n",
      "[100]\tvalid_0's rmse: 0.676126\n",
      "[200]\tvalid_0's rmse: 0.68203\n",
      "[100]\tvalid_0's rmse: 0.692979\n",
      "[200]\tvalid_0's rmse: 0.676704\n",
      "[300]\tvalid_0's rmse: 0.670508\n",
      "[400]\tvalid_0's rmse: 0.670738\n",
      "[100]\tvalid_0's rmse: 0.725204\n",
      "[200]\tvalid_0's rmse: 0.718462\n",
      "[300]\tvalid_0's rmse: 0.718684\n",
      "[100]\tvalid_0's rmse: 0.663184\n",
      "[200]\tvalid_0's rmse: 0.660361\n",
      "[300]\tvalid_0's rmse: 0.659827\n",
      "[400]\tvalid_0's rmse: 0.660039\n",
      "[500]\tvalid_0's rmse: 0.661601\n",
      "[100]\tvalid_0's rmse: 0.696593\n",
      "[200]\tvalid_0's rmse: 0.701925\n",
      "[300]\tvalid_0's rmse: 0.702921\n",
      "[100]\tvalid_0's rmse: 0.613314\n",
      "[200]\tvalid_0's rmse: 0.613755\n",
      "[300]\tvalid_0's rmse: 0.618255\n",
      "[100]\tvalid_0's rmse: 0.659481\n",
      "[200]\tvalid_0's rmse: 0.664371\n",
      "[100]\tvalid_0's rmse: 0.639769\n",
      "[200]\tvalid_0's rmse: 0.647692\n",
      "[300]\tvalid_0's rmse: 0.657425\n",
      "[100]\tvalid_0's rmse: 0.621445\n",
      "[200]\tvalid_0's rmse: 0.621882\n",
      "[300]\tvalid_0's rmse: 0.629166\n",
      "[100]\tvalid_0's rmse: 0.649211\n",
      "[200]\tvalid_0's rmse: 0.653572\n",
      "[300]\tvalid_0's rmse: 0.655256\n",
      "[100]\tvalid_0's rmse: 0.670763\n",
      "[200]\tvalid_0's rmse: 0.67281\n",
      "[100]\tvalid_0's rmse: 0.679719\n",
      "[200]\tvalid_0's rmse: 0.68766\n",
      "[100]\tvalid_0's rmse: 0.721162\n",
      "[200]\tvalid_0's rmse: 0.715004\n",
      "[300]\tvalid_0's rmse: 0.717186\n",
      "[400]\tvalid_0's rmse: 0.721207\n",
      "[100]\tvalid_0's rmse: 0.655846\n",
      "[200]\tvalid_0's rmse: 0.648488\n",
      "[300]\tvalid_0's rmse: 0.648098\n",
      "[400]\tvalid_0's rmse: 0.647175\n",
      "[500]\tvalid_0's rmse: 0.649564\n",
      "[100]\tvalid_0's rmse: 0.72847\n",
      "[200]\tvalid_0's rmse: 0.733723\n",
      "[300]\tvalid_0's rmse: 0.741025\n",
      "[100]\tvalid_0's rmse: 0.699057\n",
      "[200]\tvalid_0's rmse: 0.697739\n",
      "[300]\tvalid_0's rmse: 0.698997\n",
      "[100]\tvalid_0's rmse: 0.729615\n",
      "[200]\tvalid_0's rmse: 0.724638\n",
      "[300]\tvalid_0's rmse: 0.72585\n",
      "[100]\tvalid_0's rmse: 0.649226\n",
      "[200]\tvalid_0's rmse: 0.657185\n",
      "[100]\tvalid_0's rmse: 0.642209\n",
      "[200]\tvalid_0's rmse: 0.639396\n",
      "[300]\tvalid_0's rmse: 0.642386\n",
      "[100]\tvalid_0's rmse: 0.668648\n",
      "[200]\tvalid_0's rmse: 0.664651\n",
      "[300]\tvalid_0's rmse: 0.663154\n",
      "[400]\tvalid_0's rmse: 0.663366\n",
      "[100]\tvalid_0's rmse: 0.637895\n",
      "[200]\tvalid_0's rmse: 0.636191\n",
      "[300]\tvalid_0's rmse: 0.636933\n",
      "[100]\tvalid_0's rmse: 0.66695\n",
      "[200]\tvalid_0's rmse: 0.665164\n",
      "[300]\tvalid_0's rmse: 0.663719\n",
      "[400]\tvalid_0's rmse: 0.661737\n",
      "[500]\tvalid_0's rmse: 0.664768\n",
      "[100]\tvalid_0's rmse: 0.748581\n",
      "[200]\tvalid_0's rmse: 0.752741\n",
      "[300]\tvalid_0's rmse: 0.756306\n",
      "[100]\tvalid_0's rmse: 0.608405\n",
      "[200]\tvalid_0's rmse: 0.619901\n",
      "[100]\tvalid_0's rmse: 0.682161\n",
      "[200]\tvalid_0's rmse: 0.683095\n",
      "[300]\tvalid_0's rmse: 0.687612\n",
      "[100]\tvalid_0's rmse: 0.680007\n",
      "[200]\tvalid_0's rmse: 0.683008\n",
      "[300]\tvalid_0's rmse: 0.687052\n",
      "[100]\tvalid_0's rmse: 0.687253\n",
      "[200]\tvalid_0's rmse: 0.689571\n",
      "[300]\tvalid_0's rmse: 0.692482\n",
      "[100]\tvalid_0's rmse: 0.681625\n",
      "[200]\tvalid_0's rmse: 0.673427\n",
      "[300]\tvalid_0's rmse: 0.671769\n",
      "[400]\tvalid_0's rmse: 0.675191\n",
      "[100]\tvalid_0's rmse: 0.737557\n",
      "[200]\tvalid_0's rmse: 0.72533\n",
      "[300]\tvalid_0's rmse: 0.723125\n",
      "[400]\tvalid_0's rmse: 0.727296\n",
      "[100]\tvalid_0's rmse: 0.658288\n",
      "[200]\tvalid_0's rmse: 0.657307\n",
      "[300]\tvalid_0's rmse: 0.658576\n",
      "[100]\tvalid_0's rmse: 0.695353\n",
      "[200]\tvalid_0's rmse: 0.695138\n",
      "[300]\tvalid_0's rmse: 0.699671\n",
      "[100]\tvalid_0's rmse: 0.588969\n",
      "[200]\tvalid_0's rmse: 0.59194\n",
      "[300]\tvalid_0's rmse: 0.59705\n",
      "[100]\tvalid_0's rmse: 0.712285\n",
      "[200]\tvalid_0's rmse: 0.70475\n",
      "[300]\tvalid_0's rmse: 0.703836\n",
      "[400]\tvalid_0's rmse: 0.699817\n",
      "[500]\tvalid_0's rmse: 0.701931\n",
      "[100]\tvalid_0's rmse: 0.653372\n",
      "[200]\tvalid_0's rmse: 0.651615\n",
      "[300]\tvalid_0's rmse: 0.654148\n",
      "[100]\tvalid_0's rmse: 0.739408\n",
      "[200]\tvalid_0's rmse: 0.741303\n",
      "[300]\tvalid_0's rmse: 0.748046\n",
      "[100]\tvalid_0's rmse: 0.58669\n",
      "[200]\tvalid_0's rmse: 0.591639\n",
      "[100]\tvalid_0's rmse: 0.670051\n",
      "[200]\tvalid_0's rmse: 0.67696\n",
      "[100]\tvalid_0's rmse: 0.650591\n",
      "[200]\tvalid_0's rmse: 0.661735\n",
      "[100]\tvalid_0's rmse: 0.689831\n",
      "[200]\tvalid_0's rmse: 0.678951\n",
      "[300]\tvalid_0's rmse: 0.674537\n",
      "[400]\tvalid_0's rmse: 0.675998\n",
      "[500]\tvalid_0's rmse: 0.676591\n",
      "[100]\tvalid_0's rmse: 0.689675\n",
      "[200]\tvalid_0's rmse: 0.680923\n",
      "[300]\tvalid_0's rmse: 0.67814\n",
      "[400]\tvalid_0's rmse: 0.677005\n",
      "[500]\tvalid_0's rmse: 0.674056\n",
      "[600]\tvalid_0's rmse: 0.67428\n",
      "[700]\tvalid_0's rmse: 0.674845\n",
      "[100]\tvalid_0's rmse: 0.643579\n",
      "[200]\tvalid_0's rmse: 0.648136\n",
      "[300]\tvalid_0's rmse: 0.651796\n",
      "[100]\tvalid_0's rmse: 0.713963\n",
      "[200]\tvalid_0's rmse: 0.712584\n",
      "[300]\tvalid_0's rmse: 0.717051\n",
      "[100]\tvalid_0's rmse: 0.667046\n",
      "[200]\tvalid_0's rmse: 0.676321\n",
      "[100]\tvalid_0's rmse: 0.671503\n",
      "[200]\tvalid_0's rmse: 0.668578\n",
      "[300]\tvalid_0's rmse: 0.671487\n",
      "[100]\tvalid_0's rmse: 0.690141\n",
      "[200]\tvalid_0's rmse: 0.693843\n",
      "[300]\tvalid_0's rmse: 0.700131\n",
      "[100]\tvalid_0's rmse: 0.68285\n",
      "[200]\tvalid_0's rmse: 0.68941\n",
      "[300]\tvalid_0's rmse: 0.693224\n"
     ]
    }
   ],
   "source": [
    "from sklearn import metrics, model_selection, preprocessing, linear_model, ensemble, decomposition, tree\n",
    "import lightgbm as lgb\n",
    "models_dict = {}\n",
    "scores = []\n",
    "\n",
    "test_predict_list = []\n",
    "best_params = {'reg_alpha': 0.007678095440286993,\n",
    "               'reg_lambda': 0.14230534302168353,\n",
    "               'colsample_bytree': 0.627061253588415,\n",
    "               'subsample': 0.854942238828458,\n",
    "               'learning_rate': 0.038697981947473245,\n",
    "               'num_leaves': 70,\n",
    "               'max_depth': 50,\n",
    "               'min_child_samples': 75}\n",
    "\n",
    "train_feats = train_postprocessed_df\n",
    "test_feats = test_postprocessed_df\n",
    "train_cols = train_postprocessed_df.columns\n",
    "\n",
    "for i in range(5):\n",
    "    kf = model_selection.KFold(n_splits=10, random_state=42 + i, shuffle=True)\n",
    "    oof_valid_preds = np.zeros(train_feats.shape[0])\n",
    "    X_test = test_feats[train_cols]\n",
    "    for fold, (train_idx, valid_idx) in enumerate(kf.split(train_feats)):\n",
    "\n",
    "        X_train = train_feats.iloc[train_idx][train_cols]\n",
    "        X_valid = train_feats.iloc[valid_idx][train_cols]\n",
    "        y_train = y[train_idx]\n",
    "        y_valid = y[valid_idx]\n",
    "        params = {\n",
    "            \"objective\": \"regression\",\n",
    "            \"metric\": \"rmse\",\n",
    "            'random_state': 42,\n",
    "            \"n_estimators\" : 12001,\n",
    "            \"verbosity\": -1,\n",
    "            **best_params\n",
    "        }\n",
    "        model = lgb.LGBMRegressor(**params)\n",
    "        early_stopping_callback = lgb.early_stopping(200, first_metric_only=True, verbose=False)\n",
    "        verbose_callback = lgb.log_evaluation(100)\n",
    "        model.fit(X_train, y_train, eval_set=[(X_valid, y_valid)],\n",
    "                  callbacks=[early_stopping_callback, verbose_callback],\n",
    "                  )\n",
    "        valid_predict = model.predict(X_valid)\n",
    "        oof_valid_preds[valid_idx] = valid_predict\n",
    "        test_predict = model.predict(X_test)\n",
    "        test_predict_list.append(test_predict)\n",
    "        score = metrics.mean_squared_error(y_valid, valid_predict, squared=False)\n",
    "        models_dict[f'{fold}_{i}'] = model\n",
    "\n",
    "    oof_score = metrics.mean_squared_error(y, oof_valid_preds, squared=False)\n",
    "    scores.append(oof_score)"
   ],
   "metadata": {
    "collapsed": false,
    "ExecuteTime": {
     "end_time": "2023-11-12T22:32:51.858936Z",
     "start_time": "2023-11-12T22:30:57.584322Z"
    }
   }
  },
  {
   "cell_type": "code",
   "execution_count": 33,
   "outputs": [
    {
     "data": {
      "text/plain": "[0.6664242919970254,\n 0.6703507086999465,\n 0.668650869318866,\n 0.670750886559023,\n 0.6715081450109638]"
     },
     "execution_count": 33,
     "metadata": {},
     "output_type": "execute_result"
    }
   ],
   "source": [
    "scores"
   ],
   "metadata": {
    "collapsed": false,
    "ExecuteTime": {
     "end_time": "2023-11-12T23:56:54.622597Z",
     "start_time": "2023-11-12T23:56:54.615144Z"
    }
   }
  },
  {
   "cell_type": "code",
   "execution_count": 28,
   "outputs": [
    {
     "data": {
      "text/plain": "[0.6627099061822196,\n 0.6663073820494325,\n 0.6669482420397865,\n 0.668449212538129,\n 0.6713877681965352]"
     },
     "execution_count": 28,
     "metadata": {},
     "output_type": "execute_result"
    }
   ],
   "source": [
    "scores"
   ],
   "metadata": {
    "collapsed": false,
    "ExecuteTime": {
     "end_time": "2023-11-12T22:27:03.244810Z",
     "start_time": "2023-11-12T22:27:03.237224Z"
    }
   }
  },
  {
   "cell_type": "code",
   "execution_count": 33,
   "outputs": [],
   "source": [
    "model = GradientBoostingRegressor(\n",
    "    n_estimators=300,\n",
    "    learning_rate=0.01,\n",
    "    max_depth=10,\n",
    "    min_samples_split=3,\n",
    "    min_samples_leaf=5,\n",
    "    subsample=0.9,\n",
    "    random_state=42\n",
    ")\n",
    "# model = RandomForestRegressor(\n",
    "#     n_estimators=3000,\n",
    "#     max_features='sqrt',\n",
    "#     max_depth=None,\n",
    "#     min_samples_split=3,\n",
    "#     min_samples_leaf=1,\n",
    "#     bootstrap=True,\n",
    "#     random_state=42\n",
    "# )"
   ],
   "metadata": {
    "collapsed": false,
    "ExecuteTime": {
     "end_time": "2023-11-12T08:13:40.712159Z",
     "start_time": "2023-11-12T08:13:40.707723Z"
    }
   }
  },
  {
   "cell_type": "code",
   "execution_count": 34,
   "outputs": [],
   "source": [
    "results = performCrossValidation(model,train_postprocessed_df,train_logs_df,y,aggregation=True)"
   ],
   "metadata": {
    "collapsed": false,
    "ExecuteTime": {
     "end_time": "2023-11-12T08:26:08.845079Z",
     "start_time": "2023-11-12T08:13:41.066788Z"
    }
   }
  },
  {
   "cell_type": "code",
   "execution_count": 35,
   "outputs": [
    {
     "data": {
      "text/plain": "   test_score  train_score\n0    0.679143     0.166040\n1    0.658144     0.164997\n2    0.696474     0.163185\n3    0.710926     0.165905\n4    0.632641     0.173835\n5    0.716814     0.163232",
      "text/html": "<div>\n<style scoped>\n    .dataframe tbody tr th:only-of-type {\n        vertical-align: middle;\n    }\n\n    .dataframe tbody tr th {\n        vertical-align: top;\n    }\n\n    .dataframe thead th {\n        text-align: right;\n    }\n</style>\n<table border=\"1\" class=\"dataframe\">\n  <thead>\n    <tr style=\"text-align: right;\">\n      <th></th>\n      <th>test_score</th>\n      <th>train_score</th>\n    </tr>\n  </thead>\n  <tbody>\n    <tr>\n      <th>0</th>\n      <td>0.679143</td>\n      <td>0.166040</td>\n    </tr>\n    <tr>\n      <th>1</th>\n      <td>0.658144</td>\n      <td>0.164997</td>\n    </tr>\n    <tr>\n      <th>2</th>\n      <td>0.696474</td>\n      <td>0.163185</td>\n    </tr>\n    <tr>\n      <th>3</th>\n      <td>0.710926</td>\n      <td>0.165905</td>\n    </tr>\n    <tr>\n      <th>4</th>\n      <td>0.632641</td>\n      <td>0.173835</td>\n    </tr>\n    <tr>\n      <th>5</th>\n      <td>0.716814</td>\n      <td>0.163232</td>\n    </tr>\n  </tbody>\n</table>\n</div>"
     },
     "execution_count": 35,
     "metadata": {},
     "output_type": "execute_result"
    }
   ],
   "source": [
    "results"
   ],
   "metadata": {
    "collapsed": false,
    "ExecuteTime": {
     "end_time": "2023-11-12T08:26:08.856790Z",
     "start_time": "2023-11-12T08:26:08.844444Z"
    }
   }
  },
  {
   "cell_type": "code",
   "execution_count": 32,
   "outputs": [
    {
     "data": {
      "text/plain": "   test_score  train_score\n0    0.670318     0.257587\n1    0.653615     0.258039\n2    0.688237     0.254832\n3    0.699194     0.253688\n4    0.632028     0.260467\n5    0.704828     0.254325",
      "text/html": "<div>\n<style scoped>\n    .dataframe tbody tr th:only-of-type {\n        vertical-align: middle;\n    }\n\n    .dataframe tbody tr th {\n        vertical-align: top;\n    }\n\n    .dataframe thead th {\n        text-align: right;\n    }\n</style>\n<table border=\"1\" class=\"dataframe\">\n  <thead>\n    <tr style=\"text-align: right;\">\n      <th></th>\n      <th>test_score</th>\n      <th>train_score</th>\n    </tr>\n  </thead>\n  <tbody>\n    <tr>\n      <th>0</th>\n      <td>0.670318</td>\n      <td>0.257587</td>\n    </tr>\n    <tr>\n      <th>1</th>\n      <td>0.653615</td>\n      <td>0.258039</td>\n    </tr>\n    <tr>\n      <th>2</th>\n      <td>0.688237</td>\n      <td>0.254832</td>\n    </tr>\n    <tr>\n      <th>3</th>\n      <td>0.699194</td>\n      <td>0.253688</td>\n    </tr>\n    <tr>\n      <th>4</th>\n      <td>0.632028</td>\n      <td>0.260467</td>\n    </tr>\n    <tr>\n      <th>5</th>\n      <td>0.704828</td>\n      <td>0.254325</td>\n    </tr>\n  </tbody>\n</table>\n</div>"
     },
     "execution_count": 32,
     "metadata": {},
     "output_type": "execute_result"
    }
   ],
   "source": [
    "results"
   ],
   "metadata": {
    "collapsed": false,
    "ExecuteTime": {
     "end_time": "2023-11-12T08:06:07.027040Z",
     "start_time": "2023-11-12T08:06:07.011179Z"
    }
   }
  },
  {
   "cell_type": "code",
   "execution_count": 20,
   "outputs": [
    {
     "data": {
      "text/plain": "   test_score  train_score\n0    0.670786     0.348993\n1    0.657357     0.348817\n2    0.689015     0.345018\n3    0.703558     0.343439\n4    0.634287     0.351747\n5    0.707085     0.345408",
      "text/html": "<div>\n<style scoped>\n    .dataframe tbody tr th:only-of-type {\n        vertical-align: middle;\n    }\n\n    .dataframe tbody tr th {\n        vertical-align: top;\n    }\n\n    .dataframe thead th {\n        text-align: right;\n    }\n</style>\n<table border=\"1\" class=\"dataframe\">\n  <thead>\n    <tr style=\"text-align: right;\">\n      <th></th>\n      <th>test_score</th>\n      <th>train_score</th>\n    </tr>\n  </thead>\n  <tbody>\n    <tr>\n      <th>0</th>\n      <td>0.670786</td>\n      <td>0.348993</td>\n    </tr>\n    <tr>\n      <th>1</th>\n      <td>0.657357</td>\n      <td>0.348817</td>\n    </tr>\n    <tr>\n      <th>2</th>\n      <td>0.689015</td>\n      <td>0.345018</td>\n    </tr>\n    <tr>\n      <th>3</th>\n      <td>0.703558</td>\n      <td>0.343439</td>\n    </tr>\n    <tr>\n      <th>4</th>\n      <td>0.634287</td>\n      <td>0.351747</td>\n    </tr>\n    <tr>\n      <th>5</th>\n      <td>0.707085</td>\n      <td>0.345408</td>\n    </tr>\n  </tbody>\n</table>\n</div>"
     },
     "execution_count": 20,
     "metadata": {},
     "output_type": "execute_result"
    }
   ],
   "source": [
    "results"
   ],
   "metadata": {
    "collapsed": false,
    "ExecuteTime": {
     "end_time": "2023-11-12T04:57:45.837163Z",
     "start_time": "2023-11-12T04:57:45.821973Z"
    }
   }
  },
  {
   "cell_type": "code",
   "execution_count": null,
   "outputs": [],
   "source": [
    "model.fit(train_postprocessed_df,y)"
   ],
   "metadata": {
    "collapsed": false
   }
  },
  {
   "cell_type": "code",
   "execution_count": null,
   "outputs": [],
   "source": [
    "dataset_train = makePredictions(model,train_postprocessed_df,train_logs_df,aggregation=True)"
   ],
   "metadata": {
    "collapsed": false
   }
  },
  {
   "cell_type": "code",
   "execution_count": null,
   "outputs": [],
   "source": [
    "dataset_test = makePredictions(model,test_postprocessed_df,test_logs_df,aggregation=True) "
   ],
   "metadata": {
    "collapsed": false
   }
  },
  {
   "cell_type": "code",
   "execution_count": null,
   "outputs": [],
   "source": [
    "mean_squared_error(y,dataset_train)"
   ],
   "metadata": {
    "collapsed": false
   }
  },
  {
   "cell_type": "code",
   "execution_count": null,
   "outputs": [],
   "source": [
    "# For submission\n",
    "dataset_test[\"y_pred\"].to_csv(\"submission.csv\")"
   ],
   "metadata": {
    "collapsed": false
   }
  },
  {
   "cell_type": "markdown",
   "source": [
    "# For Model Optimization"
   ],
   "metadata": {
    "collapsed": false
   }
  },
  {
   "cell_type": "code",
   "execution_count": null,
   "outputs": [],
   "source": [
    "model,params = getModel(\"RandomForestRegressor\")"
   ],
   "metadata": {
    "collapsed": false
   }
  },
  {
   "cell_type": "code",
   "execution_count": null,
   "outputs": [],
   "source": [
    "# scores = performCrossValidation(model,train_processed_df,train_logs_df,y)\n",
    "model,results = perfromGridSearch(model,params,train_postprocessed_df,train_logs_df,y,results=True,aggregation=True)"
   ],
   "metadata": {
    "collapsed": false
   }
  },
  {
   "cell_type": "code",
   "execution_count": null,
   "outputs": [],
   "source": [
    "# model.fit(train_processed_df,y)\n",
    "dataset_train = makePredictions(model,train_postprocessed_df,train_logs_df,aggregation=True)"
   ],
   "metadata": {
    "collapsed": false
   }
  },
  {
   "cell_type": "code",
   "execution_count": null,
   "outputs": [],
   "source": [
    "dataset_test = makePredictions(model,test_processed_df,test_logs_df,aggregation=True)"
   ],
   "metadata": {
    "collapsed": false
   }
  },
  {
   "cell_type": "code",
   "execution_count": null,
   "outputs": [],
   "source": [
    "dataset_train.to_csv(\"train.csv\")"
   ],
   "metadata": {
    "collapsed": false
   }
  },
  {
   "cell_type": "code",
   "execution_count": null,
   "outputs": [],
   "source": [
    "mean_squared_error(dataset_train[\"y_true\"],dataset_train[\"y_pred\"])"
   ],
   "metadata": {
    "collapsed": false
   }
  },
  {
   "cell_type": "code",
   "execution_count": null,
   "outputs": [],
   "source": [
    "dataset_test[\"y_pred\"].to_csv(\"submission.csv\")"
   ],
   "metadata": {
    "collapsed": false
   }
  },
  {
   "cell_type": "markdown",
   "source": [
    "# Optimize with Optuna"
   ],
   "metadata": {
    "collapsed": false
   }
  },
  {
   "cell_type": "code",
   "execution_count": null,
   "outputs": [],
   "source": [
    "def objective(trial):\n",
    "    model,params = getModel(\"RandomForestRegressor\",optuna=True,trial=trial)\n",
    "    score = performKfoldScore(model,train_processed_df,train_logs_df,y,k=3,optuna = True,trial = trial)\n",
    "    params[0]['n_jobs']=[-1]\n",
    "    return score\n",
    "    "
   ],
   "metadata": {
    "collapsed": false
   }
  },
  {
   "cell_type": "code",
   "execution_count": null,
   "outputs": [],
   "source": [
    "study = optuna.create_study(\n",
    "    direction=\"minimize\",\n",
    "    sampler=optuna.samplers.TPESampler(seed=42),\n",
    "    pruner=optuna.pruners.MedianPruner(n_warmup_steps=10),\n",
    "    storage = \"sqlite:///linking-writing-process-to-writing-quality.db\",\n",
    "    study_name = \"RandomForest\"\n",
    ")\n",
    "study.optimize(objective, n_trials=20)"
   ],
   "metadata": {
    "collapsed": false
   }
  }
 ],
 "metadata": {
  "kernelspec": {
   "display_name": "Python 3",
   "language": "python",
   "name": "python3"
  },
  "language_info": {
   "codemirror_mode": {
    "name": "ipython",
    "version": 3
   },
   "file_extension": ".py",
   "mimetype": "text/x-python",
   "name": "python",
   "nbconvert_exporter": "python",
   "pygments_lexer": "ipython3",
   "version": "3.12.0"
  }
 },
 "nbformat": 4,
 "nbformat_minor": 0
}
